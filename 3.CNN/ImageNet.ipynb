{
  "nbformat": 4,
  "nbformat_minor": 0,
  "metadata": {
    "colab": {
      "name": "ImageNet.ipynb",
      "provenance": [],
      "collapsed_sections": []
    },
    "kernelspec": {
      "name": "python3",
      "display_name": "Python 3"
    }
  },
  "cells": [
    {
      "cell_type": "markdown",
      "metadata": {
        "id": "Ue1AYH3sH0gq"
      },
      "source": [
        "# Keras Application animal"
      ]
    },
    {
      "cell_type": "code",
      "metadata": {
        "colab": {
          "base_uri": "https://localhost:8080/"
        },
        "id": "3fVbIFSRH4u8",
        "outputId": "ec648858-9b91-4286-800d-a426cd967225"
      },
      "source": [
        "!unzip -qq animals.zip -d animals"
      ],
      "execution_count": 38,
      "outputs": [
        {
          "output_type": "stream",
          "text": [
            "개.jpg:  mismatching \"local\" filename (ъ░Ь.jpg),\n",
            "         continuing with \"central\" filename version\n",
            "replace animals/개.jpg? [y]es, [n]o, [A]ll, [N]one, [r]ename: N\n",
            "고라니.jpg:  mismatching \"local\" filename (ъ│аыЭ╝ыЛИ.jpg),\n",
            "         continuing with \"central\" filename version\n",
            "고래상어.jpg:  mismatching \"local\" filename (ъ│аыЮШьГБьЦ┤.jpg),\n",
            "         continuing with \"central\" filename version\n",
            "고양이.jpg:  mismatching \"local\" filename (ъ│аьЦСьЭ┤.jpg),\n",
            "         continuing with \"central\" filename version\n",
            "기린.jpg:  mismatching \"local\" filename (ъ╕░ыж░.jpg),\n",
            "         continuing with \"central\" filename version\n",
            "까치.jpg:  mismatching \"local\" filename (ъ╣Мь╣Ш.jpg),\n",
            "         continuing with \"central\" filename version\n",
            "다람쥐.jpg:  mismatching \"local\" filename (ыЛдыЮМьеР.jpg),\n",
            "         continuing with \"central\" filename version\n",
            "도마뱀.jpg:  mismatching \"local\" filename (ыПДызИы▒А.jpg),\n",
            "         continuing with \"central\" filename version\n",
            "돼지.jpg:  mismatching \"local\" filename (ыП╝ьзА.jpg),\n",
            "         continuing with \"central\" filename version\n",
            "듀공.jpg:  mismatching \"local\" filename (ыУАъ│╡.jpg),\n",
            "         continuing with \"central\" filename version\n",
            "랫서팬더.jpg:  mismatching \"local\" filename (ыЮльДЬэМмыНФ.jpg),\n",
            "         continuing with \"central\" filename version\n",
            "말.jpg:  mismatching \"local\" filename (ызР.jpg),\n",
            "         continuing with \"central\" filename version\n",
            "맥.jpg:  mismatching \"local\" filename (ызе.jpg),\n",
            "         continuing with \"central\" filename version\n",
            "뱀.jpg:  mismatching \"local\" filename (ы▒А.jpg),\n",
            "         continuing with \"central\" filename version\n",
            "붉은여우.jpg:  mismatching \"local\" filename (ы╢ЙьЭАьЧмьЪ░.jpg),\n",
            "         continuing with \"central\" filename version\n",
            "수달.jpg:  mismatching \"local\" filename (ьИШыЛм.jpg),\n",
            "         continuing with \"central\" filename version\n",
            "숫사자.jpg:  mismatching \"local\" filename (ьИльВмьЮР.jpg),\n",
            "         continuing with \"central\" filename version\n",
            "알파카.jpg:  mismatching \"local\" filename (ьХМэММь╣┤.jpg),\n",
            "         continuing with \"central\" filename version\n",
            "판다.jpg:  mismatching \"local\" filename (эМРыЛд.jpg),\n",
            "         continuing with \"central\" filename version\n",
            "펭귄.jpg:  mismatching \"local\" filename (эОнъ╖Д.jpg),\n",
            "         continuing with \"central\" filename version\n",
            "하이에나.jpg:  mismatching \"local\" filename (эХШьЭ┤ьЧРыВШ.jpg),\n",
            "         continuing with \"central\" filename version\n",
            "흰머리독수리.jpg:  mismatching \"local\" filename (эЭ░ыи╕ыжмыПЕьИШыжм.jpg),\n",
            "         continuing with \"central\" filename version\n"
          ],
          "name": "stdout"
        }
      ]
    },
    {
      "cell_type": "code",
      "metadata": {
        "id": "DU_Bl8cSJ0tj"
      },
      "source": [
        "from glob import glob\r\n",
        "from tensorflow.keras.applications.resnet50 import ResNet50, decode_predictions\r\n",
        "from tensorflow.keras.applications.resnet import ResNet101, decode_predictions\r\n",
        "from tensorflow.keras.applications.inception_v3 import InceptionV3, decode_predictions\r\n",
        "from tensorflow.keras.applications.vgg16 import VGG16, decode_predictions\r\n",
        "from tensorflow.keras.applications.vgg19 import VGG19, decode_predictions\r\n",
        "import pandas as pd\r\n",
        "import cv2\r\n",
        "from glob import glob"
      ],
      "execution_count": 60,
      "outputs": []
    },
    {
      "cell_type": "code",
      "metadata": {
        "id": "6s91SRWgL3wj"
      },
      "source": [
        "vgg16 = VGG16()\r\n",
        "vgg19 = VGG19()\r\n",
        "resnet50 = ResNet50()\r\n",
        "resnet101 = ResNet101()\r\n",
        "inceptionv3 = InceptionV3(input_shape=(299,299,3))"
      ],
      "execution_count": 61,
      "outputs": []
    },
    {
      "cell_type": "code",
      "metadata": {
        "id": "Bi_BwEGcMFpH"
      },
      "source": [
        "names = []\r\n",
        "for file in glob('animals/*'):\r\n",
        "    name = file.split('.')[0]\r\n",
        "    name = name.split('/')[1]\r\n",
        "    names.append(name)"
      ],
      "execution_count": 62,
      "outputs": []
    },
    {
      "cell_type": "code",
      "metadata": {
        "colab": {
          "base_uri": "https://localhost:8080/"
        },
        "id": "QU6z76dKMKYP",
        "outputId": "9e45d1ee-59d7-42ed-92c8-ef01609fa650"
      },
      "source": [
        "print(names)"
      ],
      "execution_count": 63,
      "outputs": [
        {
          "output_type": "stream",
          "text": [
            "['판다', '고라니', '수달', '도마뱀', '뱀', '알파카', '맥', '다람쥐', '기린', '붉은여우', '돼지', '숫사자', '고양이', '고래상어', '펭귄', '말', '듀공', '흰머리독수리', '개', '랫서팬더', '하이에나', '까치']\n"
          ],
          "name": "stdout"
        }
      ]
    },
    {
      "cell_type": "markdown",
      "metadata": {
        "id": "K4ZFFQ-5Mddb"
      },
      "source": [
        "## ResNet50"
      ]
    },
    {
      "cell_type": "code",
      "metadata": {
        "id": "16ucfujTMR-k"
      },
      "source": [
        "resnet50_list = []\r\n",
        "for file in glob('animals/*'):\r\n",
        "    img = cv2.imread(file, -1)\r\n",
        "    img = cv2.cvtColor(img, cv2.COLOR_BGR2RGB)\r\n",
        "    img = cv2.resize(img, (224, 224))\r\n",
        "\r\n",
        "    yhat = resnet50.predict(img.reshape(-1, 224, 224, 3))\r\n",
        "    label = decode_predictions(yhat)\r\n",
        "    label = label[0][0]\r\n",
        "    label_per = f'{label[1]}({round(label[2]*100, 1)}%)'\r\n",
        "    resnet50_list.append(label_per)"
      ],
      "execution_count": 64,
      "outputs": []
    },
    {
      "cell_type": "code",
      "metadata": {
        "colab": {
          "base_uri": "https://localhost:8080/"
        },
        "id": "SzR3k7AOMgrH",
        "outputId": "faefaefe-d098-4d40-e609-9f07137c8f1d"
      },
      "source": [
        "print(resnet50_list)"
      ],
      "execution_count": 65,
      "outputs": [
        {
          "output_type": "stream",
          "text": [
            "['giant_panda(76.0%)', 'wood_rabbit(24.5%)', 'otter(95.7%)', 'boa_constrictor(10.9%)', 'green_snake(21.3%)', 'llama(71.6%)', 'hog(74.1%)', 'otter(15.3%)', 'dalmatian(92.8%)', 'grey_fox(18.6%)', 'ram(36.9%)', 'Arabian_camel(36.3%)', 'Egyptian_cat(57.5%)', 'candle(55.0%)', 'king_penguin(30.3%)', 'Arabian_camel(65.6%)', 'dugong(52.5%)', 'kite(99.5%)', 'Great_Pyrenees(67.0%)', 'polecat(48.0%)', 'hyena(95.6%)', 'black_grouse(42.7%)']\n"
          ],
          "name": "stdout"
        }
      ]
    },
    {
      "cell_type": "markdown",
      "metadata": {
        "id": "w9_UUnVGMyRj"
      },
      "source": [
        "## ResNet101"
      ]
    },
    {
      "cell_type": "code",
      "metadata": {
        "id": "zSApIX6gMyRk"
      },
      "source": [
        "resnet101_list = []\r\n",
        "for file in glob('animals/*'):\r\n",
        "    img = cv2.imread(file, -1)\r\n",
        "    img = cv2.cvtColor(img, cv2.COLOR_BGR2RGB)\r\n",
        "    img = cv2.resize(img, (224, 224))\r\n",
        "\r\n",
        "    yhat = resnet101.predict(img.reshape(-1, 224, 224, 3))\r\n",
        "    label = decode_predictions(yhat)\r\n",
        "    label = label[0][0]\r\n",
        "    label_per = f'{label[1]}({round(label[2]*100, 1)}%)'\r\n",
        "    resnet101_list.append(label_per)"
      ],
      "execution_count": 66,
      "outputs": []
    },
    {
      "cell_type": "code",
      "metadata": {
        "colab": {
          "base_uri": "https://localhost:8080/"
        },
        "id": "hp3JkwyWMyRl",
        "outputId": "06316e1d-ed24-4eff-cdf7-92305ba2f1fa"
      },
      "source": [
        "print(resnet101_list)"
      ],
      "execution_count": 67,
      "outputs": [
        {
          "output_type": "stream",
          "text": [
            "['ice_bear(27.6%)', 'wallaby(48.8%)', 'otter(97.2%)', 'slug(30.4%)', 'green_snake(48.3%)', 'llama(86.1%)', 'hog(14.3%)', 'jay(57.4%)', 'gazelle(93.4%)', 'Arctic_fox(59.2%)', 'ram(37.9%)', 'lion(47.5%)', 'Egyptian_cat(64.5%)', 'electric_ray(45.3%)', 'Siamese_cat(44.3%)', 'sorrel(78.9%)', 'ice_bear(58.1%)', 'kite(93.6%)', 'kuvasz(86.5%)', 'polecat(78.6%)', 'hyena(31.2%)', 'black_grouse(42.7%)']\n"
          ],
          "name": "stdout"
        }
      ]
    },
    {
      "cell_type": "markdown",
      "metadata": {
        "id": "qp8sYkkYNDWV"
      },
      "source": [
        "## VGG16"
      ]
    },
    {
      "cell_type": "code",
      "metadata": {
        "id": "z0eeR1GCNDWW"
      },
      "source": [
        "vgg16_list = []\r\n",
        "for file in glob('animals/*'):\r\n",
        "    img = cv2.imread(file, -1)\r\n",
        "    img = cv2.cvtColor(img, cv2.COLOR_BGR2RGB)\r\n",
        "    img = cv2.resize(img, (224, 224))\r\n",
        "\r\n",
        "    yhat = vgg16.predict(img.reshape(-1, 224, 224, 3))\r\n",
        "    label = decode_predictions(yhat)\r\n",
        "    label = label[0][0]\r\n",
        "    label_per = f'{label[1]}({round(label[2]*100, 1)}%)'\r\n",
        "    vgg16_list.append(label_per)"
      ],
      "execution_count": 68,
      "outputs": []
    },
    {
      "cell_type": "code",
      "metadata": {
        "colab": {
          "base_uri": "https://localhost:8080/"
        },
        "id": "iCS-FlG7NDWX",
        "outputId": "bc97aeaf-7a8b-4b7a-ecc4-e31ee2c1377e"
      },
      "source": [
        "print(vgg16_list)"
      ],
      "execution_count": 69,
      "outputs": [
        {
          "output_type": "stream",
          "text": [
            "['giant_panda(64.0%)', 'wallaby(66.6%)', 'otter(77.0%)', 'night_snake(49.8%)', 'green_snake(26.4%)', 'llama(97.5%)', 'Weimaraner(25.7%)', 'weasel(26.2%)', 'cheetah(28.0%)', 'Arctic_fox(55.9%)', 'white_wolf(57.0%)', 'white_wolf(56.3%)', 'Egyptian_cat(43.7%)', 'goldfish(24.8%)', 'king_penguin(97.9%)', 'sorrel(46.3%)', 'dugong(40.5%)', 'kite(98.5%)', 'kuvasz(98.4%)', 'ice_bear(22.2%)', 'coyote(66.6%)', 'albatross(52.7%)']\n"
          ],
          "name": "stdout"
        }
      ]
    },
    {
      "cell_type": "markdown",
      "metadata": {
        "id": "X8LT1VIvNY1s"
      },
      "source": [
        "## VGG19"
      ]
    },
    {
      "cell_type": "code",
      "metadata": {
        "id": "TzF2zObKNY1y"
      },
      "source": [
        "vgg19_list = []\r\n",
        "for file in glob('animals/*'):\r\n",
        "    img = cv2.imread(file, -1)\r\n",
        "    img = cv2.cvtColor(img, cv2.COLOR_BGR2RGB)\r\n",
        "    img = cv2.resize(img, (224, 224))\r\n",
        "\r\n",
        "    yhat = vgg19.predict(img.reshape(-1, 224, 224, 3))\r\n",
        "    label = decode_predictions(yhat)\r\n",
        "    label = label[0][0]\r\n",
        "    label_per = f'{label[1]}({round(label[2]*100, 1)}%)'\r\n",
        "    vgg19_list.append(label_per)"
      ],
      "execution_count": 70,
      "outputs": []
    },
    {
      "cell_type": "code",
      "metadata": {
        "colab": {
          "base_uri": "https://localhost:8080/"
        },
        "id": "i-LdHKVxNY1z",
        "outputId": "ce8fdfc5-4ba7-452e-ebb1-6d51acc6b7d8"
      },
      "source": [
        "print(vgg19_list)"
      ],
      "execution_count": 71,
      "outputs": [
        {
          "output_type": "stream",
          "text": [
            "['weasel(33.9%)', 'wallaby(24.2%)', 'otter(30.2%)', 'electric_ray(82.6%)', 'sea_snake(42.5%)', 'llama(52.8%)', 'ram(38.5%)', 'weasel(18.5%)', 'Saluki(43.9%)', 'Arctic_fox(86.4%)', 'ram(49.6%)', 'Saluki(62.9%)', 'plastic_bag(23.4%)', 'electric_ray(24.8%)', 'king_penguin(100.0%)', 'sorrel(48.5%)', 'dugong(26.9%)', 'kite(97.9%)', 'kuvasz(67.3%)', 'Arctic_fox(40.6%)', 'hyena(98.2%)', 'black_grouse(38.5%)']\n"
          ],
          "name": "stdout"
        }
      ]
    },
    {
      "cell_type": "markdown",
      "metadata": {
        "id": "-3pXvDu8NlI3"
      },
      "source": [
        "## InceptionV3"
      ]
    },
    {
      "cell_type": "code",
      "metadata": {
        "id": "XM1so8x3NlI4"
      },
      "source": [
        "inceptionv3_list = []\r\n",
        "for file in glob('animals/*'):\r\n",
        "    img = cv2.imread(file, -1)\r\n",
        "    img = cv2.cvtColor(img, cv2.COLOR_BGR2RGB)\r\n",
        "    img = cv2.resize(img, (299, 299))\r\n",
        "\r\n",
        "    yhat = inceptionv3.predict(img.reshape(-1, 299, 299, 3))\r\n",
        "    label = decode_predictions(yhat)\r\n",
        "    label = label[0][0]\r\n",
        "    label_per = f'{label[1]}({round(label[2]*100, 1)}%)'\r\n",
        "    inceptionv3_list.append(label_per)"
      ],
      "execution_count": 72,
      "outputs": []
    },
    {
      "cell_type": "code",
      "metadata": {
        "colab": {
          "base_uri": "https://localhost:8080/"
        },
        "id": "ZH8V8TErNlI4",
        "outputId": "cae5f8cb-0800-4920-ec72-3ca068cc3926"
      },
      "source": [
        "print(inceptionv3_list)"
      ],
      "execution_count": 73,
      "outputs": [
        {
          "output_type": "stream",
          "text": [
            "['flatworm(99.9%)', 'pitcher(100.0%)', 'pitcher(100.0%)', 'television(99.3%)', 'web_site(100.0%)', 'pitcher(100.0%)', 'pitcher(100.0%)', 'pitcher(100.0%)', 'flatworm(99.4%)', 'flatworm(100.0%)', 'pitcher(100.0%)', 'flatworm(96.4%)', 'web_site(100.0%)', 'web_site(100.0%)', 'pitcher(100.0%)', 'pitcher(100.0%)', 'clog(100.0%)', 'pitcher(99.4%)', 'pitcher(100.0%)', 'saltshaker(63.4%)', 'pitcher(100.0%)', 'flatworm(99.9%)']\n"
          ],
          "name": "stdout"
        }
      ]
    },
    {
      "cell_type": "code",
      "metadata": {
        "id": "mtpxorBeN08u"
      },
      "source": [
        "df = pd.DataFrame({\r\n",
        "    '원본' : names,\r\n",
        "    'Resnet50' : resnet50_list,\r\n",
        "    'Resnet101' : resnet101_list,\r\n",
        "    'VGG16' : vgg16_list,\r\n",
        "    'VGG19' : vgg19_list,\r\n",
        "    'Inceptionv3' : inceptionv3_list\r\n",
        "})"
      ],
      "execution_count": 74,
      "outputs": []
    },
    {
      "cell_type": "code",
      "metadata": {
        "colab": {
          "base_uri": "https://localhost:8080/",
          "height": 1000
        },
        "id": "01bocNvSOWyp",
        "outputId": "7c685277-df54-4018-b7ec-9981e3a05586"
      },
      "source": [
        "df"
      ],
      "execution_count": 75,
      "outputs": [
        {
          "output_type": "execute_result",
          "data": {
            "text/html": [
              "<div>\n",
              "<style scoped>\n",
              "    .dataframe tbody tr th:only-of-type {\n",
              "        vertical-align: middle;\n",
              "    }\n",
              "\n",
              "    .dataframe tbody tr th {\n",
              "        vertical-align: top;\n",
              "    }\n",
              "\n",
              "    .dataframe thead th {\n",
              "        text-align: right;\n",
              "    }\n",
              "</style>\n",
              "<table border=\"1\" class=\"dataframe\">\n",
              "  <thead>\n",
              "    <tr style=\"text-align: right;\">\n",
              "      <th></th>\n",
              "      <th>원본</th>\n",
              "      <th>Resnet50</th>\n",
              "      <th>Resnet101</th>\n",
              "      <th>VGG16</th>\n",
              "      <th>VGG19</th>\n",
              "      <th>Inceptionv3</th>\n",
              "    </tr>\n",
              "  </thead>\n",
              "  <tbody>\n",
              "    <tr>\n",
              "      <th>0</th>\n",
              "      <td>판다</td>\n",
              "      <td>giant_panda(76.0%)</td>\n",
              "      <td>ice_bear(27.6%)</td>\n",
              "      <td>giant_panda(64.0%)</td>\n",
              "      <td>weasel(33.9%)</td>\n",
              "      <td>flatworm(99.9%)</td>\n",
              "    </tr>\n",
              "    <tr>\n",
              "      <th>1</th>\n",
              "      <td>고라니</td>\n",
              "      <td>wood_rabbit(24.5%)</td>\n",
              "      <td>wallaby(48.8%)</td>\n",
              "      <td>wallaby(66.6%)</td>\n",
              "      <td>wallaby(24.2%)</td>\n",
              "      <td>pitcher(100.0%)</td>\n",
              "    </tr>\n",
              "    <tr>\n",
              "      <th>2</th>\n",
              "      <td>수달</td>\n",
              "      <td>otter(95.7%)</td>\n",
              "      <td>otter(97.2%)</td>\n",
              "      <td>otter(77.0%)</td>\n",
              "      <td>otter(30.2%)</td>\n",
              "      <td>pitcher(100.0%)</td>\n",
              "    </tr>\n",
              "    <tr>\n",
              "      <th>3</th>\n",
              "      <td>도마뱀</td>\n",
              "      <td>boa_constrictor(10.9%)</td>\n",
              "      <td>slug(30.4%)</td>\n",
              "      <td>night_snake(49.8%)</td>\n",
              "      <td>electric_ray(82.6%)</td>\n",
              "      <td>television(99.3%)</td>\n",
              "    </tr>\n",
              "    <tr>\n",
              "      <th>4</th>\n",
              "      <td>뱀</td>\n",
              "      <td>green_snake(21.3%)</td>\n",
              "      <td>green_snake(48.3%)</td>\n",
              "      <td>green_snake(26.4%)</td>\n",
              "      <td>sea_snake(42.5%)</td>\n",
              "      <td>web_site(100.0%)</td>\n",
              "    </tr>\n",
              "    <tr>\n",
              "      <th>5</th>\n",
              "      <td>알파카</td>\n",
              "      <td>llama(71.6%)</td>\n",
              "      <td>llama(86.1%)</td>\n",
              "      <td>llama(97.5%)</td>\n",
              "      <td>llama(52.8%)</td>\n",
              "      <td>pitcher(100.0%)</td>\n",
              "    </tr>\n",
              "    <tr>\n",
              "      <th>6</th>\n",
              "      <td>맥</td>\n",
              "      <td>hog(74.1%)</td>\n",
              "      <td>hog(14.3%)</td>\n",
              "      <td>Weimaraner(25.7%)</td>\n",
              "      <td>ram(38.5%)</td>\n",
              "      <td>pitcher(100.0%)</td>\n",
              "    </tr>\n",
              "    <tr>\n",
              "      <th>7</th>\n",
              "      <td>다람쥐</td>\n",
              "      <td>otter(15.3%)</td>\n",
              "      <td>jay(57.4%)</td>\n",
              "      <td>weasel(26.2%)</td>\n",
              "      <td>weasel(18.5%)</td>\n",
              "      <td>pitcher(100.0%)</td>\n",
              "    </tr>\n",
              "    <tr>\n",
              "      <th>8</th>\n",
              "      <td>기린</td>\n",
              "      <td>dalmatian(92.8%)</td>\n",
              "      <td>gazelle(93.4%)</td>\n",
              "      <td>cheetah(28.0%)</td>\n",
              "      <td>Saluki(43.9%)</td>\n",
              "      <td>flatworm(99.4%)</td>\n",
              "    </tr>\n",
              "    <tr>\n",
              "      <th>9</th>\n",
              "      <td>붉은여우</td>\n",
              "      <td>grey_fox(18.6%)</td>\n",
              "      <td>Arctic_fox(59.2%)</td>\n",
              "      <td>Arctic_fox(55.9%)</td>\n",
              "      <td>Arctic_fox(86.4%)</td>\n",
              "      <td>flatworm(100.0%)</td>\n",
              "    </tr>\n",
              "    <tr>\n",
              "      <th>10</th>\n",
              "      <td>돼지</td>\n",
              "      <td>ram(36.9%)</td>\n",
              "      <td>ram(37.9%)</td>\n",
              "      <td>white_wolf(57.0%)</td>\n",
              "      <td>ram(49.6%)</td>\n",
              "      <td>pitcher(100.0%)</td>\n",
              "    </tr>\n",
              "    <tr>\n",
              "      <th>11</th>\n",
              "      <td>숫사자</td>\n",
              "      <td>Arabian_camel(36.3%)</td>\n",
              "      <td>lion(47.5%)</td>\n",
              "      <td>white_wolf(56.3%)</td>\n",
              "      <td>Saluki(62.9%)</td>\n",
              "      <td>flatworm(96.4%)</td>\n",
              "    </tr>\n",
              "    <tr>\n",
              "      <th>12</th>\n",
              "      <td>고양이</td>\n",
              "      <td>Egyptian_cat(57.5%)</td>\n",
              "      <td>Egyptian_cat(64.5%)</td>\n",
              "      <td>Egyptian_cat(43.7%)</td>\n",
              "      <td>plastic_bag(23.4%)</td>\n",
              "      <td>web_site(100.0%)</td>\n",
              "    </tr>\n",
              "    <tr>\n",
              "      <th>13</th>\n",
              "      <td>고래상어</td>\n",
              "      <td>candle(55.0%)</td>\n",
              "      <td>electric_ray(45.3%)</td>\n",
              "      <td>goldfish(24.8%)</td>\n",
              "      <td>electric_ray(24.8%)</td>\n",
              "      <td>web_site(100.0%)</td>\n",
              "    </tr>\n",
              "    <tr>\n",
              "      <th>14</th>\n",
              "      <td>펭귄</td>\n",
              "      <td>king_penguin(30.3%)</td>\n",
              "      <td>Siamese_cat(44.3%)</td>\n",
              "      <td>king_penguin(97.9%)</td>\n",
              "      <td>king_penguin(100.0%)</td>\n",
              "      <td>pitcher(100.0%)</td>\n",
              "    </tr>\n",
              "    <tr>\n",
              "      <th>15</th>\n",
              "      <td>말</td>\n",
              "      <td>Arabian_camel(65.6%)</td>\n",
              "      <td>sorrel(78.9%)</td>\n",
              "      <td>sorrel(46.3%)</td>\n",
              "      <td>sorrel(48.5%)</td>\n",
              "      <td>pitcher(100.0%)</td>\n",
              "    </tr>\n",
              "    <tr>\n",
              "      <th>16</th>\n",
              "      <td>듀공</td>\n",
              "      <td>dugong(52.5%)</td>\n",
              "      <td>ice_bear(58.1%)</td>\n",
              "      <td>dugong(40.5%)</td>\n",
              "      <td>dugong(26.9%)</td>\n",
              "      <td>clog(100.0%)</td>\n",
              "    </tr>\n",
              "    <tr>\n",
              "      <th>17</th>\n",
              "      <td>흰머리독수리</td>\n",
              "      <td>kite(99.5%)</td>\n",
              "      <td>kite(93.6%)</td>\n",
              "      <td>kite(98.5%)</td>\n",
              "      <td>kite(97.9%)</td>\n",
              "      <td>pitcher(99.4%)</td>\n",
              "    </tr>\n",
              "    <tr>\n",
              "      <th>18</th>\n",
              "      <td>개</td>\n",
              "      <td>Great_Pyrenees(67.0%)</td>\n",
              "      <td>kuvasz(86.5%)</td>\n",
              "      <td>kuvasz(98.4%)</td>\n",
              "      <td>kuvasz(67.3%)</td>\n",
              "      <td>pitcher(100.0%)</td>\n",
              "    </tr>\n",
              "    <tr>\n",
              "      <th>19</th>\n",
              "      <td>랫서팬더</td>\n",
              "      <td>polecat(48.0%)</td>\n",
              "      <td>polecat(78.6%)</td>\n",
              "      <td>ice_bear(22.2%)</td>\n",
              "      <td>Arctic_fox(40.6%)</td>\n",
              "      <td>saltshaker(63.4%)</td>\n",
              "    </tr>\n",
              "    <tr>\n",
              "      <th>20</th>\n",
              "      <td>하이에나</td>\n",
              "      <td>hyena(95.6%)</td>\n",
              "      <td>hyena(31.2%)</td>\n",
              "      <td>coyote(66.6%)</td>\n",
              "      <td>hyena(98.2%)</td>\n",
              "      <td>pitcher(100.0%)</td>\n",
              "    </tr>\n",
              "    <tr>\n",
              "      <th>21</th>\n",
              "      <td>까치</td>\n",
              "      <td>black_grouse(42.7%)</td>\n",
              "      <td>black_grouse(42.7%)</td>\n",
              "      <td>albatross(52.7%)</td>\n",
              "      <td>black_grouse(38.5%)</td>\n",
              "      <td>flatworm(99.9%)</td>\n",
              "    </tr>\n",
              "  </tbody>\n",
              "</table>\n",
              "</div>"
            ],
            "text/plain": [
              "        원본                Resnet50  ...                 VGG19        Inceptionv3\n",
              "0       판다      giant_panda(76.0%)  ...         weasel(33.9%)    flatworm(99.9%)\n",
              "1      고라니      wood_rabbit(24.5%)  ...        wallaby(24.2%)    pitcher(100.0%)\n",
              "2       수달            otter(95.7%)  ...          otter(30.2%)    pitcher(100.0%)\n",
              "3      도마뱀  boa_constrictor(10.9%)  ...   electric_ray(82.6%)  television(99.3%)\n",
              "4        뱀      green_snake(21.3%)  ...      sea_snake(42.5%)   web_site(100.0%)\n",
              "5      알파카            llama(71.6%)  ...          llama(52.8%)    pitcher(100.0%)\n",
              "6        맥              hog(74.1%)  ...            ram(38.5%)    pitcher(100.0%)\n",
              "7      다람쥐            otter(15.3%)  ...         weasel(18.5%)    pitcher(100.0%)\n",
              "8       기린        dalmatian(92.8%)  ...         Saluki(43.9%)    flatworm(99.4%)\n",
              "9     붉은여우         grey_fox(18.6%)  ...     Arctic_fox(86.4%)   flatworm(100.0%)\n",
              "10      돼지              ram(36.9%)  ...            ram(49.6%)    pitcher(100.0%)\n",
              "11     숫사자    Arabian_camel(36.3%)  ...         Saluki(62.9%)    flatworm(96.4%)\n",
              "12     고양이     Egyptian_cat(57.5%)  ...    plastic_bag(23.4%)   web_site(100.0%)\n",
              "13    고래상어           candle(55.0%)  ...   electric_ray(24.8%)   web_site(100.0%)\n",
              "14      펭귄     king_penguin(30.3%)  ...  king_penguin(100.0%)    pitcher(100.0%)\n",
              "15       말    Arabian_camel(65.6%)  ...         sorrel(48.5%)    pitcher(100.0%)\n",
              "16      듀공           dugong(52.5%)  ...         dugong(26.9%)       clog(100.0%)\n",
              "17  흰머리독수리             kite(99.5%)  ...           kite(97.9%)     pitcher(99.4%)\n",
              "18       개   Great_Pyrenees(67.0%)  ...         kuvasz(67.3%)    pitcher(100.0%)\n",
              "19    랫서팬더          polecat(48.0%)  ...     Arctic_fox(40.6%)  saltshaker(63.4%)\n",
              "20    하이에나            hyena(95.6%)  ...          hyena(98.2%)    pitcher(100.0%)\n",
              "21      까치     black_grouse(42.7%)  ...   black_grouse(38.5%)    flatworm(99.9%)\n",
              "\n",
              "[22 rows x 6 columns]"
            ]
          },
          "metadata": {
            "tags": []
          },
          "execution_count": 75
        }
      ]
    },
    {
      "cell_type": "code",
      "metadata": {
        "id": "3Dt8oWn_OXq9"
      },
      "source": [
        ""
      ],
      "execution_count": 75,
      "outputs": []
    }
  ]
}