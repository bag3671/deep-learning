{
  "nbformat": 4,
  "nbformat_minor": 0,
  "metadata": {
    "colab": {
      "name": "15_Fashion-MNIST-CNN 과제.ipynb",
      "provenance": [],
      "collapsed_sections": []
    },
    "kernelspec": {
      "name": "python3",
      "display_name": "Python 3"
    },
    "accelerator": "GPU"
  },
  "cells": [
    {
      "cell_type": "markdown",
      "metadata": {
        "id": "IrIpyoy9Ps0K"
      },
      "source": [
        "# Fashion MNIST"
      ]
    },
    {
      "cell_type": "markdown",
      "metadata": {
        "id": "nAomrYIIPlRj"
      },
      "source": [
        "### 데이터 불러오기"
      ]
    },
    {
      "cell_type": "code",
      "metadata": {
        "id": "LXYzw4tT_Sgb"
      },
      "source": [
        "import numpy as np\r\n",
        "import pandas as pd\r\n",
        "import tensorflow as tf\r\n",
        "from tensorflow import keras\r\n",
        "\r\n",
        "import matplotlib.pyplot as plt\r\n",
        "%matplotlib inline"
      ],
      "execution_count": 368,
      "outputs": []
    },
    {
      "cell_type": "code",
      "metadata": {
        "id": "1GrBLX0C_Uql"
      },
      "source": [
        "# seed 값 설정\r\n",
        "seed = 2020\r\n",
        "np.random.seed(seed)\r\n",
        "tf.random.set_seed(seed)"
      ],
      "execution_count": 369,
      "outputs": []
    },
    {
      "cell_type": "code",
      "metadata": {
        "id": "8a4W4bOtRmFI"
      },
      "source": [
        "from tensorflow.keras.datasets import fashion_mnist\r\n",
        "fashion_mnist = keras.datasets.fashion_mnist\r\n",
        "\r\n",
        "(X_train, Y_train), (X_test, Y_test) = \\\r\n",
        "    fashion_mnist.load_data()"
      ],
      "execution_count": 370,
      "outputs": []
    },
    {
      "cell_type": "code",
      "metadata": {
        "id": "iRzEAePv_6Qv"
      },
      "source": [
        "class_names = ['T-shirt/top', 'Trouser', 'Pullover', 'Dress', 'Coat',\r\n",
        "               'Sandal', 'Shirt', 'Sneaker', 'Bag', 'Ankle boot']"
      ],
      "execution_count": 371,
      "outputs": []
    },
    {
      "cell_type": "code",
      "metadata": {
        "colab": {
          "base_uri": "https://localhost:8080/"
        },
        "id": "U4CPLcs2AaQC",
        "outputId": "f8558450-3662-4141-e9a1-919effe7e1d7"
      },
      "source": [
        "X_train.shape,Y_train.shape"
      ],
      "execution_count": 372,
      "outputs": [
        {
          "output_type": "execute_result",
          "data": {
            "text/plain": [
              "((60000, 28, 28), (60000,))"
            ]
          },
          "metadata": {
            "tags": []
          },
          "execution_count": 372
        }
      ]
    },
    {
      "cell_type": "markdown",
      "metadata": {
        "id": "N4ScBICKPp-n"
      },
      "source": [
        "## 데이터 전처리"
      ]
    },
    {
      "cell_type": "code",
      "metadata": {
        "id": "B195kFY2RuX8"
      },
      "source": [
        "X_train = X_train.reshape(-1, 28, 28, 1)\r\n",
        "X_train = X_train / 255\r\n",
        "X_test = X_test.reshape(-1, 28, 28, 1).astype('float64') / 255"
      ],
      "execution_count": 373,
      "outputs": []
    },
    {
      "cell_type": "code",
      "metadata": {
        "colab": {
          "base_uri": "https://localhost:8080/"
        },
        "id": "1jMnfCDUXyk4",
        "outputId": "340c5d42-694a-4d4d-c652-da4eb0478e11"
      },
      "source": [
        "X_train.shape,X_test.shape"
      ],
      "execution_count": 374,
      "outputs": [
        {
          "output_type": "execute_result",
          "data": {
            "text/plain": [
              "((60000, 28, 28, 1), (10000, 28, 28, 1))"
            ]
          },
          "metadata": {
            "tags": []
          },
          "execution_count": 374
        }
      ]
    },
    {
      "cell_type": "code",
      "metadata": {
        "id": "TkoOoumASAno"
      },
      "source": [
        "import tensorflow as tf\r\n",
        "from tensorflow.keras.utils import to_categorical\r\n",
        "\r\n",
        "Y_train = to_categorical(Y_train)\r\n",
        "Y_test = to_categorical(Y_test)"
      ],
      "execution_count": 375,
      "outputs": []
    },
    {
      "cell_type": "code",
      "metadata": {
        "id": "Ck_-79abSOOf"
      },
      "source": [
        "from tensorflow.keras.models import Sequential\r\n",
        "from tensorflow.keras.layers import Dense,Flatten,Conv2D,MaxPooling2D,Dropout,BatchNormalization\r\n",
        "import os\r\n",
        "MODEL_DIR = './model/'\r\n",
        "if not os.path.exists(MODEL_DIR):\r\n",
        "    os.mkdir(MODEL_DIR)"
      ],
      "execution_count": 376,
      "outputs": []
    },
    {
      "cell_type": "markdown",
      "metadata": {
        "id": "fpl7FkD_lLAB"
      },
      "source": [
        "참고 사이트 \r\n",
        "- https://tykimos.github.io/2017/01/27/CNN_Layer_Talk/\r\n",
        "- https://m.blog.naver.com/laonple/220808903260\r\n",
        "- https://stackoverflow.com/questions/34716454/where-do-i-call-the-batchnormalization-function-in-keras"
      ]
    },
    {
      "cell_type": "code",
      "metadata": {
        "id": "8hwvo1e5R6it"
      },
      "source": [
        "# 검색하다보니 배치정규화 BatchNormalization가 있어 사용해 보았습니다\r\n",
        "model = Sequential()\r\n",
        "model.add(Conv2D(32, kernel_size=(3, 3),\r\n",
        "                 activation='relu',data_format='channels_last',padding='same',\r\n",
        "                 input_shape=(28, 28, 1)))\r\n",
        "model.add(BatchNormalization())\r\n",
        "model.add(MaxPooling2D(pool_size=(2,2)))\r\n",
        "model.add(Conv2D(32, \r\n",
        "                 kernel_size=(3, 3),data_format='channels_last',padding='same',\r\n",
        "                 activation='relu',))\r\n",
        "model.add(BatchNormalization())\r\n",
        "model.add(MaxPooling2D(pool_size=(2,2)))\r\n",
        "model.add(Dropout(0.25))\r\n",
        "model.add(Conv2D(64, \r\n",
        "                 kernel_size=(3, 3), data_format='channels_last',padding='same',\r\n",
        "                 activation='relu'))\r\n",
        "model.add(BatchNormalization())\r\n",
        "model.add(MaxPooling2D(pool_size=(2,2)))\r\n",
        "model.add(Dropout(0.25))\r\n",
        "model.add(Flatten())\r\n",
        "model.add(Dense(512, activation='relu'))\r\n",
        "model.add(BatchNormalization())\r\n",
        "model.add(Dropout(0.5))\r\n",
        "model.add(Dense(128, activation='relu'))\r\n",
        "model.add(BatchNormalization())\r\n",
        "model.add(Dropout(0.5))\r\n",
        "model.add(Dense(10, activation='softmax'))\r\n",
        "\r\n",
        "\r\n",
        "model.compile(loss=keras.losses.categorical_crossentropy,\r\n",
        "              optimizer='adam',\r\n",
        "              metrics=['accuracy'])"
      ],
      "execution_count": 377,
      "outputs": []
    },
    {
      "cell_type": "code",
      "metadata": {
        "id": "jIYx9YOpSvCn"
      },
      "source": [
        "model.compile(\r\n",
        "    loss='categorical_crossentropy', metrics=['accuracy'], optimizer='adam'\r\n",
        ")"
      ],
      "execution_count": 378,
      "outputs": []
    },
    {
      "cell_type": "code",
      "metadata": {
        "id": "K-2NVxRYU0b6"
      },
      "source": [
        "modelpath = MODEL_DIR + \"best{epoch:03d}-{val_loss:.4f}.hdf5\""
      ],
      "execution_count": 379,
      "outputs": []
    },
    {
      "cell_type": "code",
      "metadata": {
        "id": "RgPE9y30UpH0"
      },
      "source": [
        "from tensorflow.keras.callbacks import ModelCheckpoint,EarlyStopping\r\n",
        "checkpointer = ModelCheckpoint(filepath=modelpath, monitor='val_loss', verbose=1, save_best_only=True)\r\n",
        "early_stopping = EarlyStopping(monitor='val_loss',patience=20)"
      ],
      "execution_count": 380,
      "outputs": []
    },
    {
      "cell_type": "code",
      "metadata": {
        "id": "r9o7PHFgUsKA",
        "colab": {
          "base_uri": "https://localhost:8080/"
        },
        "outputId": "85673627-2203-4aea-a925-6800b9c08bed"
      },
      "source": [
        "history = model.fit(X_train,Y_train,validation_split=0.2,verbose=0,\r\n",
        "                    epochs=150,batch_size=100,\r\n",
        "                    callbacks=[checkpointer,early_stopping])"
      ],
      "execution_count": 381,
      "outputs": [
        {
          "output_type": "stream",
          "text": [
            "\n",
            "Epoch 00001: val_loss improved from inf to 1.09456, saving model to ./model/best001-1.0946.hdf5\n",
            "\n",
            "Epoch 00002: val_loss improved from 1.09456 to 0.31250, saving model to ./model/best002-0.3125.hdf5\n",
            "\n",
            "Epoch 00003: val_loss improved from 0.31250 to 0.28351, saving model to ./model/best003-0.2835.hdf5\n",
            "\n",
            "Epoch 00004: val_loss did not improve from 0.28351\n",
            "\n",
            "Epoch 00005: val_loss improved from 0.28351 to 0.25541, saving model to ./model/best005-0.2554.hdf5\n",
            "\n",
            "Epoch 00006: val_loss improved from 0.25541 to 0.25249, saving model to ./model/best006-0.2525.hdf5\n",
            "\n",
            "Epoch 00007: val_loss improved from 0.25249 to 0.24310, saving model to ./model/best007-0.2431.hdf5\n",
            "\n",
            "Epoch 00008: val_loss improved from 0.24310 to 0.22843, saving model to ./model/best008-0.2284.hdf5\n",
            "\n",
            "Epoch 00009: val_loss improved from 0.22843 to 0.21917, saving model to ./model/best009-0.2192.hdf5\n",
            "\n",
            "Epoch 00010: val_loss did not improve from 0.21917\n",
            "\n",
            "Epoch 00011: val_loss did not improve from 0.21917\n",
            "\n",
            "Epoch 00012: val_loss did not improve from 0.21917\n",
            "\n",
            "Epoch 00013: val_loss improved from 0.21917 to 0.21864, saving model to ./model/best013-0.2186.hdf5\n",
            "\n",
            "Epoch 00014: val_loss did not improve from 0.21864\n",
            "\n",
            "Epoch 00015: val_loss did not improve from 0.21864\n",
            "\n",
            "Epoch 00016: val_loss improved from 0.21864 to 0.20921, saving model to ./model/best016-0.2092.hdf5\n",
            "\n",
            "Epoch 00017: val_loss improved from 0.20921 to 0.20681, saving model to ./model/best017-0.2068.hdf5\n",
            "\n",
            "Epoch 00018: val_loss did not improve from 0.20681\n",
            "\n",
            "Epoch 00019: val_loss did not improve from 0.20681\n",
            "\n",
            "Epoch 00020: val_loss did not improve from 0.20681\n",
            "\n",
            "Epoch 00021: val_loss did not improve from 0.20681\n",
            "\n",
            "Epoch 00022: val_loss did not improve from 0.20681\n",
            "\n",
            "Epoch 00023: val_loss did not improve from 0.20681\n",
            "\n",
            "Epoch 00024: val_loss improved from 0.20681 to 0.20496, saving model to ./model/best024-0.2050.hdf5\n",
            "\n",
            "Epoch 00025: val_loss improved from 0.20496 to 0.20165, saving model to ./model/best025-0.2017.hdf5\n",
            "\n",
            "Epoch 00026: val_loss did not improve from 0.20165\n",
            "\n",
            "Epoch 00027: val_loss did not improve from 0.20165\n",
            "\n",
            "Epoch 00028: val_loss did not improve from 0.20165\n",
            "\n",
            "Epoch 00029: val_loss did not improve from 0.20165\n",
            "\n",
            "Epoch 00030: val_loss improved from 0.20165 to 0.19813, saving model to ./model/best030-0.1981.hdf5\n",
            "\n",
            "Epoch 00031: val_loss improved from 0.19813 to 0.19810, saving model to ./model/best031-0.1981.hdf5\n",
            "\n",
            "Epoch 00032: val_loss did not improve from 0.19810\n",
            "\n",
            "Epoch 00033: val_loss did not improve from 0.19810\n",
            "\n",
            "Epoch 00034: val_loss improved from 0.19810 to 0.19098, saving model to ./model/best034-0.1910.hdf5\n",
            "\n",
            "Epoch 00035: val_loss did not improve from 0.19098\n",
            "\n",
            "Epoch 00036: val_loss did not improve from 0.19098\n",
            "\n",
            "Epoch 00037: val_loss did not improve from 0.19098\n",
            "\n",
            "Epoch 00038: val_loss did not improve from 0.19098\n",
            "\n",
            "Epoch 00039: val_loss did not improve from 0.19098\n",
            "\n",
            "Epoch 00040: val_loss did not improve from 0.19098\n",
            "\n",
            "Epoch 00041: val_loss did not improve from 0.19098\n",
            "\n",
            "Epoch 00042: val_loss did not improve from 0.19098\n",
            "\n",
            "Epoch 00043: val_loss did not improve from 0.19098\n",
            "\n",
            "Epoch 00044: val_loss did not improve from 0.19098\n",
            "\n",
            "Epoch 00045: val_loss did not improve from 0.19098\n",
            "\n",
            "Epoch 00046: val_loss did not improve from 0.19098\n",
            "\n",
            "Epoch 00047: val_loss did not improve from 0.19098\n",
            "\n",
            "Epoch 00048: val_loss did not improve from 0.19098\n",
            "\n",
            "Epoch 00049: val_loss did not improve from 0.19098\n",
            "\n",
            "Epoch 00050: val_loss did not improve from 0.19098\n",
            "\n",
            "Epoch 00051: val_loss did not improve from 0.19098\n",
            "\n",
            "Epoch 00052: val_loss improved from 0.19098 to 0.19015, saving model to ./model/best052-0.1901.hdf5\n",
            "\n",
            "Epoch 00053: val_loss did not improve from 0.19015\n",
            "\n",
            "Epoch 00054: val_loss did not improve from 0.19015\n",
            "\n",
            "Epoch 00055: val_loss did not improve from 0.19015\n",
            "\n",
            "Epoch 00056: val_loss did not improve from 0.19015\n",
            "\n",
            "Epoch 00057: val_loss did not improve from 0.19015\n",
            "\n",
            "Epoch 00058: val_loss did not improve from 0.19015\n",
            "\n",
            "Epoch 00059: val_loss did not improve from 0.19015\n",
            "\n",
            "Epoch 00060: val_loss did not improve from 0.19015\n",
            "\n",
            "Epoch 00061: val_loss did not improve from 0.19015\n",
            "\n",
            "Epoch 00062: val_loss did not improve from 0.19015\n",
            "\n",
            "Epoch 00063: val_loss did not improve from 0.19015\n",
            "\n",
            "Epoch 00064: val_loss did not improve from 0.19015\n",
            "\n",
            "Epoch 00065: val_loss did not improve from 0.19015\n",
            "\n",
            "Epoch 00066: val_loss did not improve from 0.19015\n",
            "\n",
            "Epoch 00067: val_loss did not improve from 0.19015\n",
            "\n",
            "Epoch 00068: val_loss did not improve from 0.19015\n",
            "\n",
            "Epoch 00069: val_loss did not improve from 0.19015\n",
            "\n",
            "Epoch 00070: val_loss did not improve from 0.19015\n",
            "\n",
            "Epoch 00071: val_loss did not improve from 0.19015\n",
            "\n",
            "Epoch 00072: val_loss did not improve from 0.19015\n"
          ],
          "name": "stdout"
        }
      ]
    },
    {
      "cell_type": "markdown",
      "metadata": {
        "id": "AejGeFtojMWG"
      },
      "source": [
        "### 과제 답!!!!!!!!!!"
      ]
    },
    {
      "cell_type": "code",
      "metadata": {
        "colab": {
          "base_uri": "https://localhost:8080/"
        },
        "id": "CEJQf0ioWnof",
        "outputId": "f1d49ba9-581a-45c7-ab27-823b73dab1d7"
      },
      "source": [
        "from tensorflow.keras.models import load_model\r\n",
        "best_model = load_model('./model/best052-0.1901.hdf5')\r\n",
        "acc = best_model.evaluate(X_test, Y_test)\r\n",
        "print(f\"Accuracy: {acc[1]:.4f}\")"
      ],
      "execution_count": 382,
      "outputs": [
        {
          "output_type": "stream",
          "text": [
            "313/313 [==============================] - 1s 2ms/step - loss: 0.2146 - accuracy: 0.9301\n",
            "Accuracy: 0.9301\n"
          ],
          "name": "stdout"
        }
      ]
    },
    {
      "cell_type": "markdown",
      "metadata": {
        "id": "NT-Gq8MRUjgQ"
      },
      "source": [
        "### 기존코드"
      ]
    },
    {
      "cell_type": "code",
      "metadata": {
        "colab": {
          "base_uri": "https://localhost:8080/"
        },
        "id": "3p8f-p4-Ui9X",
        "outputId": "85be77a5-df69-44d1-baca-0033e2ba777c"
      },
      "source": [
        "model2 = Sequential([\r\n",
        "                    Conv2D(32, kernel_size=(3, 3), \r\n",
        "                              input_shape=(28, 28, 1),  \r\n",
        "                              activation='relu'),\r\n",
        "                    MaxPooling2D(pool_size=(2,2)),\r\n",
        "                    Conv2D(64, (3, 3), activation='relu'),\r\n",
        "                    MaxPooling2D(pool_size=(2,2)),\r\n",
        "                    Dropout(0.25),\r\n",
        "                    Flatten(),\r\n",
        "                    Dense(128,activation='relu'),\r\n",
        "                    Dropout(0.5),\r\n",
        "                    Dense(10,activation='softmax')\r\n",
        "])\r\n",
        "model2.summary()"
      ],
      "execution_count": 328,
      "outputs": [
        {
          "output_type": "stream",
          "text": [
            "Model: \"sequential_42\"\n",
            "_________________________________________________________________\n",
            "Layer (type)                 Output Shape              Param #   \n",
            "=================================================================\n",
            "conv2d_97 (Conv2D)           (None, 26, 26, 32)        320       \n",
            "_________________________________________________________________\n",
            "max_pooling2d_91 (MaxPooling (None, 13, 13, 32)        0         \n",
            "_________________________________________________________________\n",
            "conv2d_98 (Conv2D)           (None, 11, 11, 64)        18496     \n",
            "_________________________________________________________________\n",
            "max_pooling2d_92 (MaxPooling (None, 5, 5, 64)          0         \n",
            "_________________________________________________________________\n",
            "dropout_137 (Dropout)        (None, 5, 5, 64)          0         \n",
            "_________________________________________________________________\n",
            "flatten_40 (Flatten)         (None, 1600)              0         \n",
            "_________________________________________________________________\n",
            "dense_83 (Dense)             (None, 128)               204928    \n",
            "_________________________________________________________________\n",
            "dropout_138 (Dropout)        (None, 128)               0         \n",
            "_________________________________________________________________\n",
            "dense_84 (Dense)             (None, 10)                1290      \n",
            "=================================================================\n",
            "Total params: 225,034\n",
            "Trainable params: 225,034\n",
            "Non-trainable params: 0\n",
            "_________________________________________________________________\n"
          ],
          "name": "stdout"
        }
      ]
    },
    {
      "cell_type": "code",
      "metadata": {
        "id": "CIlUZ6JYUoBr"
      },
      "source": [
        "model2.compile(\r\n",
        "    loss='categorical_crossentropy', metrics=['accuracy'], optimizer='adam'\r\n",
        ")"
      ],
      "execution_count": 331,
      "outputs": []
    },
    {
      "cell_type": "code",
      "metadata": {
        "id": "JTImaBKsVAwc"
      },
      "source": [
        "modelpath = MODEL_DIR + \"best{epoch:03d}-{val_loss:.4f}.hdf5\""
      ],
      "execution_count": 332,
      "outputs": []
    },
    {
      "cell_type": "code",
      "metadata": {
        "id": "mO2y-pG-VAwm"
      },
      "source": [
        "from tensorflow.keras.callbacks import ModelCheckpoint,EarlyStopping\r\n",
        "checkpointer = ModelCheckpoint(filepath=modelpath, monitor='val_loss', verbose=1, save_best_only=True)\r\n",
        "early_stopping = EarlyStopping(monitor='val_loss',patience=10)"
      ],
      "execution_count": 333,
      "outputs": []
    },
    {
      "cell_type": "code",
      "metadata": {
        "colab": {
          "base_uri": "https://localhost:8080/"
        },
        "id": "usKPOq20UqsP",
        "outputId": "82cababb-1b8e-4d2e-fb15-c425e8eb98f1"
      },
      "source": [
        "history2 = model2.fit(X_train,Y_train,validation_split=0.2,verbose=0,\r\n",
        "                    epochs=100,batch_size=256,\r\n",
        "                    callbacks=[checkpointer,early_stopping])"
      ],
      "execution_count": 334,
      "outputs": [
        {
          "output_type": "stream",
          "text": [
            "\n",
            "Epoch 00001: val_loss improved from inf to 0.47714, saving model to ./model/best001-0.4771.hdf5\n",
            "\n",
            "Epoch 00002: val_loss improved from 0.47714 to 0.39678, saving model to ./model/best002-0.3968.hdf5\n",
            "\n",
            "Epoch 00003: val_loss improved from 0.39678 to 0.36530, saving model to ./model/best003-0.3653.hdf5\n",
            "\n",
            "Epoch 00004: val_loss improved from 0.36530 to 0.33047, saving model to ./model/best004-0.3305.hdf5\n",
            "\n",
            "Epoch 00005: val_loss improved from 0.33047 to 0.31946, saving model to ./model/best005-0.3195.hdf5\n",
            "\n",
            "Epoch 00006: val_loss improved from 0.31946 to 0.30675, saving model to ./model/best006-0.3068.hdf5\n",
            "\n",
            "Epoch 00007: val_loss improved from 0.30675 to 0.29441, saving model to ./model/best007-0.2944.hdf5\n",
            "\n",
            "Epoch 00008: val_loss improved from 0.29441 to 0.28135, saving model to ./model/best008-0.2813.hdf5\n",
            "\n",
            "Epoch 00009: val_loss improved from 0.28135 to 0.27142, saving model to ./model/best009-0.2714.hdf5\n",
            "\n",
            "Epoch 00010: val_loss did not improve from 0.27142\n",
            "\n",
            "Epoch 00011: val_loss improved from 0.27142 to 0.25982, saving model to ./model/best011-0.2598.hdf5\n",
            "\n",
            "Epoch 00012: val_loss improved from 0.25982 to 0.25575, saving model to ./model/best012-0.2558.hdf5\n",
            "\n",
            "Epoch 00013: val_loss improved from 0.25575 to 0.25257, saving model to ./model/best013-0.2526.hdf5\n",
            "\n",
            "Epoch 00014: val_loss improved from 0.25257 to 0.24746, saving model to ./model/best014-0.2475.hdf5\n",
            "\n",
            "Epoch 00015: val_loss improved from 0.24746 to 0.24661, saving model to ./model/best015-0.2466.hdf5\n",
            "\n",
            "Epoch 00016: val_loss did not improve from 0.24661\n",
            "\n",
            "Epoch 00017: val_loss did not improve from 0.24661\n",
            "\n",
            "Epoch 00018: val_loss improved from 0.24661 to 0.24575, saving model to ./model/best018-0.2457.hdf5\n",
            "\n",
            "Epoch 00019: val_loss improved from 0.24575 to 0.23664, saving model to ./model/best019-0.2366.hdf5\n",
            "\n",
            "Epoch 00020: val_loss improved from 0.23664 to 0.23089, saving model to ./model/best020-0.2309.hdf5\n",
            "\n",
            "Epoch 00021: val_loss did not improve from 0.23089\n",
            "\n",
            "Epoch 00022: val_loss improved from 0.23089 to 0.22925, saving model to ./model/best022-0.2293.hdf5\n",
            "\n",
            "Epoch 00023: val_loss did not improve from 0.22925\n",
            "\n",
            "Epoch 00024: val_loss did not improve from 0.22925\n",
            "\n",
            "Epoch 00025: val_loss did not improve from 0.22925\n",
            "\n",
            "Epoch 00026: val_loss did not improve from 0.22925\n",
            "\n",
            "Epoch 00027: val_loss improved from 0.22925 to 0.22867, saving model to ./model/best027-0.2287.hdf5\n",
            "\n",
            "Epoch 00028: val_loss did not improve from 0.22867\n",
            "\n",
            "Epoch 00029: val_loss did not improve from 0.22867\n",
            "\n",
            "Epoch 00030: val_loss improved from 0.22867 to 0.22142, saving model to ./model/best030-0.2214.hdf5\n",
            "\n",
            "Epoch 00031: val_loss did not improve from 0.22142\n",
            "\n",
            "Epoch 00032: val_loss did not improve from 0.22142\n",
            "\n",
            "Epoch 00033: val_loss did not improve from 0.22142\n",
            "\n",
            "Epoch 00034: val_loss did not improve from 0.22142\n",
            "\n",
            "Epoch 00035: val_loss did not improve from 0.22142\n",
            "\n",
            "Epoch 00036: val_loss did not improve from 0.22142\n",
            "\n",
            "Epoch 00037: val_loss did not improve from 0.22142\n",
            "\n",
            "Epoch 00038: val_loss did not improve from 0.22142\n",
            "\n",
            "Epoch 00039: val_loss did not improve from 0.22142\n",
            "\n",
            "Epoch 00040: val_loss did not improve from 0.22142\n"
          ],
          "name": "stdout"
        }
      ]
    },
    {
      "cell_type": "code",
      "metadata": {
        "colab": {
          "base_uri": "https://localhost:8080/"
        },
        "id": "cKiZa7LSUwnQ",
        "outputId": "5cc34eb1-e74a-40f1-9104-f3314760437b"
      },
      "source": [
        "from tensorflow.keras.models import load_model\r\n",
        "best_model2 = load_model('./model/best036-0.2154.hdf5')\r\n",
        "acc = best_model2.evaluate(X_test, Y_test)\r\n",
        "print(f\"Accuracy: {acc[1]:.4f}\")"
      ],
      "execution_count": 150,
      "outputs": [
        {
          "output_type": "stream",
          "text": [
            "313/313 [==============================] - 1s 2ms/step - loss: 0.2305 - accuracy: 0.9193\n",
            "Accuracy: 0.9193\n"
          ],
          "name": "stdout"
        }
      ]
    },
    {
      "cell_type": "markdown",
      "metadata": {
        "id": "LF2dna0UUriq"
      },
      "source": [
        "### 그래프"
      ]
    },
    {
      "cell_type": "code",
      "metadata": {
        "id": "cSTbeAVnWy3R"
      },
      "source": [
        "# 검증셋의 오차\r\n",
        "y_vloss = history.history['val_loss']\r\n",
        "\r\n",
        "# 학습셋의 오차\r\n",
        "y_loss = history.history['loss']"
      ],
      "execution_count": 335,
      "outputs": []
    },
    {
      "cell_type": "code",
      "metadata": {
        "colab": {
          "base_uri": "https://localhost:8080/",
          "height": 388
        },
        "id": "netNcdZeYeeo",
        "outputId": "86a3b8f3-3c4d-4df4-ebce-8151a8cda44e"
      },
      "source": [
        "import numpy as np\r\n",
        "\r\n",
        "# 그래프로 표현\r\n",
        "x_len = np.arange(1, len(y_loss)+1)\r\n",
        "plt.figure(figsize=(8,6))\r\n",
        "plt.plot(x_len, y_vloss, marker='.', c=\"red\", label='Validationset_loss')\r\n",
        "plt.plot(x_len, y_loss, marker='.', c=\"blue\", label='Trainset_loss')\r\n",
        "\r\n",
        "# 그래프에 그리드를 주고 레이블을 표시\r\n",
        "plt.legend(loc='upper right')\r\n",
        "#plt.axis([0, 20, 0, 0.35])\r\n",
        "plt.grid()\r\n",
        "plt.xlabel('epoch')\r\n",
        "plt.ylabel('loss')\r\n",
        "plt.show()"
      ],
      "execution_count": 336,
      "outputs": [
        {
          "output_type": "display_data",
          "data": {
            "image/png": "[encoded data removed]",
            "text/plain": [
              "<Figure size 576x432 with 1 Axes>"
            ]
          },
          "metadata": {
            "tags": [],
            "needs_background": "light"
          }
        }
      ]
    },
    {
      "cell_type": "code",
      "metadata": {
        "id": "J5REo03WYgZR"
      },
      "source": [
        ""
      ],
      "execution_count": null,
      "outputs": []
    }
  ]
}