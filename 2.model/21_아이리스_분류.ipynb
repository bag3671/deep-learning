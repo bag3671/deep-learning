{
  "nbformat": 4,
  "nbformat_minor": 0,
  "metadata": {
    "colab": {
      "name": "21_아이리스 분류.ipynb",
      "provenance": []
    },
    "kernelspec": {
      "name": "python3",
      "display_name": "Python 3"
    }
  },
  "cells": [
    {
      "cell_type": "code",
      "metadata": {
        "id": "XMwwq9pdFpuq"
      },
      "source": [
        "import numpy as np\r\n",
        "import tensorflow as tf"
      ],
      "execution_count": 1,
      "outputs": []
    },
    {
      "cell_type": "code",
      "metadata": {
        "id": "E9ohQkNSGGJk"
      },
      "source": [
        "# 실행할 때마다 같은 결과를 출력하기 위한 seed 값 설정\r\n",
        "seed = 2021\r\n",
        "np.random.seed(seed)\r\n",
        "tf.random.set_seed(seed)"
      ],
      "execution_count": 2,
      "outputs": []
    },
    {
      "cell_type": "code",
      "metadata": {
        "id": "W6BvRrnRGKcd"
      },
      "source": [
        "from sklearn.datasets import load_iris\r\n",
        "iris = load_iris()"
      ],
      "execution_count": 3,
      "outputs": []
    },
    {
      "cell_type": "code",
      "metadata": {
        "colab": {
          "base_uri": "https://localhost:8080/"
        },
        "id": "3JITzcuiJcLP",
        "outputId": "abd4314a-7fd2-48a0-a2d9-d8fa343569cc"
      },
      "source": [
        "iris.keys()"
      ],
      "execution_count": 4,
      "outputs": [
        {
          "output_type": "execute_result",
          "data": {
            "text/plain": [
              "dict_keys(['data', 'target', 'target_names', 'DESCR', 'feature_names', 'filename'])"
            ]
          },
          "metadata": {
            "tags": []
          },
          "execution_count": 4
        }
      ]
    },
    {
      "cell_type": "code",
      "metadata": {
        "id": "ST4eQgkwGRif"
      },
      "source": [
        "from tensorflow.keras.utils import to_categorical\r\n",
        "y_one_hot = to_categorical(iris.target)"
      ],
      "execution_count": 5,
      "outputs": []
    },
    {
      "cell_type": "code",
      "metadata": {
        "id": "eTUPbAi3Ibj5"
      },
      "source": [
        "from sklearn.preprocessing import MinMaxScaler\r\n",
        "scale = MinMaxScaler()\r\n",
        "X_scaled = scale.fit_transform(iris.data)"
      ],
      "execution_count": 6,
      "outputs": []
    },
    {
      "cell_type": "code",
      "metadata": {
        "colab": {
          "base_uri": "https://localhost:8080/"
        },
        "id": "q_w204y0JklN",
        "outputId": "4dd76794-0baa-40f6-8ccb-a9346cd53088"
      },
      "source": [
        "from sklearn.model_selection import train_test_split\r\n",
        "X_train,X_test,y_train,y_test = train_test_split(\r\n",
        "    X_scaled, y_one_hot,stratify=y_one_hot,random_state = seed\r\n",
        ")\r\n",
        "X_train.shape,X_test.shape"
      ],
      "execution_count": 7,
      "outputs": [
        {
          "output_type": "execute_result",
          "data": {
            "text/plain": [
              "((112, 4), (38, 4))"
            ]
          },
          "metadata": {
            "tags": []
          },
          "execution_count": 7
        }
      ]
    },
    {
      "cell_type": "code",
      "metadata": {
        "id": "QdD3T5y5IxUr"
      },
      "source": [
        "from tensorflow.keras.models import Sequential\r\n",
        "from tensorflow.keras.layers import Dense,Input\r\n",
        "model = Sequential([\r\n",
        "    Dense(16, input_shape=(4,), activation='relu'),\r\n",
        "    Dense(3, activation='softmax')\r\n",
        "])"
      ],
      "execution_count": 8,
      "outputs": []
    },
    {
      "cell_type": "code",
      "metadata": {
        "id": "mIiDdVM3I6JU"
      },
      "source": [
        "model.compile(\r\n",
        "                loss='categorical_crossentropy', \r\n",
        "                optimizer='adam', \r\n",
        "                metrics=['accuracy']\r\n",
        "            )"
      ],
      "execution_count": 9,
      "outputs": []
    },
    {
      "cell_type": "code",
      "metadata": {
        "colab": {
          "base_uri": "https://localhost:8080/"
        },
        "id": "6u3Hr5JFJS9N",
        "outputId": "a5ce5907-51bf-4a05-a99a-143feedd4fb4"
      },
      "source": [
        "history = model.fit(X_train,y_train, validation_split=0.2, epochs=50, batch_size=30)"
      ],
      "execution_count": 10,
      "outputs": [
        {
          "output_type": "stream",
          "text": [
            "Epoch 1/50\n",
            "3/3 [==============================] - 1s 229ms/step - loss: 1.1695 - accuracy: 0.1507 - val_loss: 1.1591 - val_accuracy: 0.1739\n",
            "Epoch 2/50\n",
            "3/3 [==============================] - 0s 22ms/step - loss: 1.1631 - accuracy: 0.1564 - val_loss: 1.1552 - val_accuracy: 0.1739\n",
            "Epoch 3/50\n",
            "3/3 [==============================] - 0s 21ms/step - loss: 1.1532 - accuracy: 0.1187 - val_loss: 1.1513 - val_accuracy: 0.1739\n",
            "Epoch 4/50\n",
            "3/3 [==============================] - 0s 22ms/step - loss: 1.1479 - accuracy: 0.1201 - val_loss: 1.1479 - val_accuracy: 0.1739\n",
            "Epoch 5/50\n",
            "3/3 [==============================] - 0s 23ms/step - loss: 1.1410 - accuracy: 0.1607 - val_loss: 1.1446 - val_accuracy: 0.2609\n",
            "Epoch 6/50\n",
            "3/3 [==============================] - 0s 24ms/step - loss: 1.1343 - accuracy: 0.2459 - val_loss: 1.1417 - val_accuracy: 0.3043\n",
            "Epoch 7/50\n",
            "3/3 [==============================] - 0s 21ms/step - loss: 1.1248 - accuracy: 0.3031 - val_loss: 1.1383 - val_accuracy: 0.3478\n",
            "Epoch 8/50\n",
            "3/3 [==============================] - 0s 20ms/step - loss: 1.1173 - accuracy: 0.3352 - val_loss: 1.1352 - val_accuracy: 0.3043\n",
            "Epoch 9/50\n",
            "3/3 [==============================] - 0s 21ms/step - loss: 1.1022 - accuracy: 0.3783 - val_loss: 1.1317 - val_accuracy: 0.2609\n",
            "Epoch 10/50\n",
            "3/3 [==============================] - 0s 23ms/step - loss: 1.1045 - accuracy: 0.3269 - val_loss: 1.1282 - val_accuracy: 0.3043\n",
            "Epoch 11/50\n",
            "3/3 [==============================] - 0s 22ms/step - loss: 1.1045 - accuracy: 0.3060 - val_loss: 1.1247 - val_accuracy: 0.3043\n",
            "Epoch 12/50\n",
            "3/3 [==============================] - 0s 21ms/step - loss: 1.0935 - accuracy: 0.3269 - val_loss: 1.1206 - val_accuracy: 0.3043\n",
            "Epoch 13/50\n",
            "3/3 [==============================] - 0s 21ms/step - loss: 1.0851 - accuracy: 0.3144 - val_loss: 1.1170 - val_accuracy: 0.3043\n",
            "Epoch 14/50\n",
            "3/3 [==============================] - 0s 26ms/step - loss: 1.0771 - accuracy: 0.3269 - val_loss: 1.1132 - val_accuracy: 0.3043\n",
            "Epoch 15/50\n",
            "3/3 [==============================] - 0s 22ms/step - loss: 1.0768 - accuracy: 0.3060 - val_loss: 1.1093 - val_accuracy: 0.3043\n",
            "Epoch 16/50\n",
            "3/3 [==============================] - 0s 84ms/step - loss: 1.0638 - accuracy: 0.3352 - val_loss: 1.1055 - val_accuracy: 0.3043\n",
            "Epoch 17/50\n",
            "3/3 [==============================] - 0s 23ms/step - loss: 1.0606 - accuracy: 0.3435 - val_loss: 1.1016 - val_accuracy: 0.3043\n",
            "Epoch 18/50\n",
            "3/3 [==============================] - 0s 23ms/step - loss: 1.0378 - accuracy: 0.3685 - val_loss: 1.0980 - val_accuracy: 0.3043\n",
            "Epoch 19/50\n",
            "3/3 [==============================] - 0s 20ms/step - loss: 1.0419 - accuracy: 0.3450 - val_loss: 1.0941 - val_accuracy: 0.3043\n",
            "Epoch 20/50\n",
            "3/3 [==============================] - 0s 19ms/step - loss: 1.0389 - accuracy: 0.3589 - val_loss: 1.0900 - val_accuracy: 0.3043\n",
            "Epoch 21/50\n",
            "3/3 [==============================] - 0s 21ms/step - loss: 1.0386 - accuracy: 0.3829 - val_loss: 1.0856 - val_accuracy: 0.3043\n",
            "Epoch 22/50\n",
            "3/3 [==============================] - 0s 21ms/step - loss: 1.0273 - accuracy: 0.4372 - val_loss: 1.0812 - val_accuracy: 0.3043\n",
            "Epoch 23/50\n",
            "3/3 [==============================] - 0s 23ms/step - loss: 1.0308 - accuracy: 0.4095 - val_loss: 1.0763 - val_accuracy: 0.3478\n",
            "Epoch 24/50\n",
            "3/3 [==============================] - 0s 21ms/step - loss: 0.9827 - accuracy: 0.5849 - val_loss: 1.0723 - val_accuracy: 0.3913\n",
            "Epoch 25/50\n",
            "3/3 [==============================] - 0s 23ms/step - loss: 1.0060 - accuracy: 0.5782 - val_loss: 1.0675 - val_accuracy: 0.4348\n",
            "Epoch 26/50\n",
            "3/3 [==============================] - 0s 20ms/step - loss: 1.0081 - accuracy: 0.5967 - val_loss: 1.0622 - val_accuracy: 0.4348\n",
            "Epoch 27/50\n",
            "3/3 [==============================] - 0s 20ms/step - loss: 0.9936 - accuracy: 0.6802 - val_loss: 1.0570 - val_accuracy: 0.5217\n",
            "Epoch 28/50\n",
            "3/3 [==============================] - 0s 20ms/step - loss: 0.9909 - accuracy: 0.6775 - val_loss: 1.0515 - val_accuracy: 0.5217\n",
            "Epoch 29/50\n",
            "3/3 [==============================] - 0s 23ms/step - loss: 0.9815 - accuracy: 0.7123 - val_loss: 1.0463 - val_accuracy: 0.5217\n",
            "Epoch 30/50\n",
            "3/3 [==============================] - 0s 21ms/step - loss: 0.9701 - accuracy: 0.6998 - val_loss: 1.0411 - val_accuracy: 0.5217\n",
            "Epoch 31/50\n",
            "3/3 [==============================] - 0s 21ms/step - loss: 0.9732 - accuracy: 0.7164 - val_loss: 1.0358 - val_accuracy: 0.5217\n",
            "Epoch 32/50\n",
            "3/3 [==============================] - 0s 23ms/step - loss: 0.9668 - accuracy: 0.6873 - val_loss: 1.0304 - val_accuracy: 0.5217\n",
            "Epoch 33/50\n",
            "3/3 [==============================] - 0s 20ms/step - loss: 0.9368 - accuracy: 0.7414 - val_loss: 1.0255 - val_accuracy: 0.5217\n",
            "Epoch 34/50\n",
            "3/3 [==============================] - 0s 23ms/step - loss: 0.9569 - accuracy: 0.6956 - val_loss: 1.0201 - val_accuracy: 0.5217\n",
            "Epoch 35/50\n",
            "3/3 [==============================] - 0s 21ms/step - loss: 0.9550 - accuracy: 0.6873 - val_loss: 1.0146 - val_accuracy: 0.5217\n",
            "Epoch 36/50\n",
            "3/3 [==============================] - 0s 21ms/step - loss: 0.9488 - accuracy: 0.6873 - val_loss: 1.0092 - val_accuracy: 0.5217\n",
            "Epoch 37/50\n",
            "3/3 [==============================] - 0s 21ms/step - loss: 0.9404 - accuracy: 0.6831 - val_loss: 1.0037 - val_accuracy: 0.5217\n",
            "Epoch 38/50\n",
            "3/3 [==============================] - 0s 22ms/step - loss: 0.9206 - accuracy: 0.7081 - val_loss: 0.9985 - val_accuracy: 0.5217\n",
            "Epoch 39/50\n",
            "3/3 [==============================] - 0s 23ms/step - loss: 0.9135 - accuracy: 0.7039 - val_loss: 0.9930 - val_accuracy: 0.5217\n",
            "Epoch 40/50\n",
            "3/3 [==============================] - 0s 23ms/step - loss: 0.9131 - accuracy: 0.6706 - val_loss: 0.9873 - val_accuracy: 0.5217\n",
            "Epoch 41/50\n",
            "3/3 [==============================] - 0s 21ms/step - loss: 0.9088 - accuracy: 0.6831 - val_loss: 0.9815 - val_accuracy: 0.5217\n",
            "Epoch 42/50\n",
            "3/3 [==============================] - 0s 21ms/step - loss: 0.9051 - accuracy: 0.6873 - val_loss: 0.9757 - val_accuracy: 0.5217\n",
            "Epoch 43/50\n",
            "3/3 [==============================] - 0s 22ms/step - loss: 0.8866 - accuracy: 0.6998 - val_loss: 0.9702 - val_accuracy: 0.5217\n",
            "Epoch 44/50\n",
            "3/3 [==============================] - 0s 23ms/step - loss: 0.8831 - accuracy: 0.7039 - val_loss: 0.9644 - val_accuracy: 0.5217\n",
            "Epoch 45/50\n",
            "3/3 [==============================] - 0s 25ms/step - loss: 0.8761 - accuracy: 0.6998 - val_loss: 0.9586 - val_accuracy: 0.5217\n",
            "Epoch 46/50\n",
            "3/3 [==============================] - 0s 26ms/step - loss: 0.8667 - accuracy: 0.7039 - val_loss: 0.9528 - val_accuracy: 0.5217\n",
            "Epoch 47/50\n",
            "3/3 [==============================] - 0s 20ms/step - loss: 0.8487 - accuracy: 0.7331 - val_loss: 0.9471 - val_accuracy: 0.5217\n",
            "Epoch 48/50\n",
            "3/3 [==============================] - 0s 20ms/step - loss: 0.8576 - accuracy: 0.6914 - val_loss: 0.9407 - val_accuracy: 0.5217\n",
            "Epoch 49/50\n",
            "3/3 [==============================] - 0s 20ms/step - loss: 0.8446 - accuracy: 0.7123 - val_loss: 0.9347 - val_accuracy: 0.5217\n",
            "Epoch 50/50\n",
            "3/3 [==============================] - 0s 22ms/step - loss: 0.8484 - accuracy: 0.6748 - val_loss: 0.9283 - val_accuracy: 0.5217\n"
          ],
          "name": "stdout"
        }
      ]
    },
    {
      "cell_type": "code",
      "metadata": {
        "colab": {
          "base_uri": "https://localhost:8080/"
        },
        "id": "UsZjltIyJU7a",
        "outputId": "227b34a8-746d-40d8-b9cc-7f46c7f0b8d6"
      },
      "source": [
        "acc = model.evaluate(X_test, y_test, verbose=2)\r\n",
        "print(f\"Accuracy: {acc[1]:.4f}\")"
      ],
      "execution_count": 11,
      "outputs": [
        {
          "output_type": "stream",
          "text": [
            "2/2 - 0s - loss: 0.8552 - accuracy: 0.6579\n",
            "Accuracy: 0.6579\n"
          ],
          "name": "stdout"
        }
      ]
    },
    {
      "cell_type": "markdown",
      "metadata": {
        "id": "E23ZxsHiKCMD"
      },
      "source": [
        "### 은닉층 추가"
      ]
    },
    {
      "cell_type": "code",
      "metadata": {
        "colab": {
          "base_uri": "https://localhost:8080/"
        },
        "id": "dU0Y55V4KBfz",
        "outputId": "759dbac7-893c-4eae-d8cd-a0e0b3c0cbf9"
      },
      "source": [
        "model2 = Sequential()\r\n",
        "model2.add(Dense(12, input_dim=4, activation=\"relu\"))\r\n",
        "model2.add(Dense(8, activation=\"relu\"))\r\n",
        "model2.add(Dense(3, activation=\"softmax\"))\r\n",
        "model2.summary()"
      ],
      "execution_count": 12,
      "outputs": [
        {
          "output_type": "stream",
          "text": [
            "Model: \"sequential_1\"\n",
            "_________________________________________________________________\n",
            "Layer (type)                 Output Shape              Param #   \n",
            "=================================================================\n",
            "dense_2 (Dense)              (None, 12)                60        \n",
            "_________________________________________________________________\n",
            "dense_3 (Dense)              (None, 8)                 104       \n",
            "_________________________________________________________________\n",
            "dense_4 (Dense)              (None, 3)                 27        \n",
            "=================================================================\n",
            "Total params: 191\n",
            "Trainable params: 191\n",
            "Non-trainable params: 0\n",
            "_________________________________________________________________\n"
          ],
          "name": "stdout"
        }
      ]
    },
    {
      "cell_type": "code",
      "metadata": {
        "id": "vfUsy21GKvFV"
      },
      "source": [
        "model.compile(\r\n",
        "                loss='categorical_crossentropy', \r\n",
        "                optimizer='adam', \r\n",
        "                metrics=['accuracy']\r\n",
        "            )"
      ],
      "execution_count": 13,
      "outputs": []
    },
    {
      "cell_type": "code",
      "metadata": {
        "colab": {
          "base_uri": "https://localhost:8080/"
        },
        "id": "ZEbQHrYVLFY1",
        "outputId": "141fb685-ca53-4552-8409-d22aed324b3f"
      },
      "source": [
        "history = model.fit(X_train,y_train, validation_split=0.2, epochs=200, batch_size=30)"
      ],
      "execution_count": 14,
      "outputs": [
        {
          "output_type": "stream",
          "text": [
            "Epoch 1/200\n",
            "3/3 [==============================] - 1s 96ms/step - loss: 0.8461 - accuracy: 0.6706 - val_loss: 0.9213 - val_accuracy: 0.5217\n",
            "Epoch 2/200\n",
            "3/3 [==============================] - 0s 20ms/step - loss: 0.8271 - accuracy: 0.6956 - val_loss: 0.9164 - val_accuracy: 0.5217\n",
            "Epoch 3/200\n",
            "3/3 [==============================] - 0s 20ms/step - loss: 0.8208 - accuracy: 0.6956 - val_loss: 0.9114 - val_accuracy: 0.5217\n",
            "Epoch 4/200\n",
            "3/3 [==============================] - 0s 21ms/step - loss: 0.8055 - accuracy: 0.7081 - val_loss: 0.9064 - val_accuracy: 0.5217\n",
            "Epoch 5/200\n",
            "3/3 [==============================] - 0s 21ms/step - loss: 0.8082 - accuracy: 0.6998 - val_loss: 0.9011 - val_accuracy: 0.5217\n",
            "Epoch 6/200\n",
            "3/3 [==============================] - 0s 23ms/step - loss: 0.7885 - accuracy: 0.7248 - val_loss: 0.8962 - val_accuracy: 0.5217\n",
            "Epoch 7/200\n",
            "3/3 [==============================] - 0s 22ms/step - loss: 0.8019 - accuracy: 0.6873 - val_loss: 0.8908 - val_accuracy: 0.5217\n",
            "Epoch 8/200\n",
            "3/3 [==============================] - 0s 24ms/step - loss: 0.7676 - accuracy: 0.7414 - val_loss: 0.8860 - val_accuracy: 0.5217\n",
            "Epoch 9/200\n",
            "3/3 [==============================] - 0s 86ms/step - loss: 0.7787 - accuracy: 0.7039 - val_loss: 0.8807 - val_accuracy: 0.5217\n",
            "Epoch 10/200\n",
            "3/3 [==============================] - 0s 21ms/step - loss: 0.7693 - accuracy: 0.7164 - val_loss: 0.8756 - val_accuracy: 0.5217\n",
            "Epoch 11/200\n",
            "3/3 [==============================] - 0s 22ms/step - loss: 0.7559 - accuracy: 0.7248 - val_loss: 0.8704 - val_accuracy: 0.5217\n",
            "Epoch 12/200\n",
            "3/3 [==============================] - 0s 22ms/step - loss: 0.7891 - accuracy: 0.6498 - val_loss: 0.8648 - val_accuracy: 0.5217\n",
            "Epoch 13/200\n",
            "3/3 [==============================] - 0s 22ms/step - loss: 0.7537 - accuracy: 0.7081 - val_loss: 0.8598 - val_accuracy: 0.5217\n",
            "Epoch 14/200\n",
            "3/3 [==============================] - 0s 23ms/step - loss: 0.7588 - accuracy: 0.6873 - val_loss: 0.8546 - val_accuracy: 0.5217\n",
            "Epoch 15/200\n",
            "3/3 [==============================] - 0s 27ms/step - loss: 0.7643 - accuracy: 0.6664 - val_loss: 0.8492 - val_accuracy: 0.5217\n",
            "Epoch 16/200\n",
            "3/3 [==============================] - 0s 23ms/step - loss: 0.7461 - accuracy: 0.6831 - val_loss: 0.8443 - val_accuracy: 0.5217\n",
            "Epoch 17/200\n",
            "3/3 [==============================] - 0s 20ms/step - loss: 0.7541 - accuracy: 0.6539 - val_loss: 0.8392 - val_accuracy: 0.5217\n",
            "Epoch 18/200\n",
            "3/3 [==============================] - 0s 20ms/step - loss: 0.7040 - accuracy: 0.7373 - val_loss: 0.8348 - val_accuracy: 0.5217\n",
            "Epoch 19/200\n",
            "3/3 [==============================] - 0s 21ms/step - loss: 0.7097 - accuracy: 0.7164 - val_loss: 0.8299 - val_accuracy: 0.5217\n",
            "Epoch 20/200\n",
            "3/3 [==============================] - 0s 23ms/step - loss: 0.7121 - accuracy: 0.7039 - val_loss: 0.8249 - val_accuracy: 0.5217\n",
            "Epoch 21/200\n",
            "3/3 [==============================] - 0s 24ms/step - loss: 0.7048 - accuracy: 0.7039 - val_loss: 0.8199 - val_accuracy: 0.5217\n",
            "Epoch 22/200\n",
            "3/3 [==============================] - 0s 23ms/step - loss: 0.6922 - accuracy: 0.7164 - val_loss: 0.8151 - val_accuracy: 0.5217\n",
            "Epoch 23/200\n",
            "3/3 [==============================] - 0s 21ms/step - loss: 0.7124 - accuracy: 0.6706 - val_loss: 0.8099 - val_accuracy: 0.5217\n",
            "Epoch 24/200\n",
            "3/3 [==============================] - 0s 20ms/step - loss: 0.6560 - accuracy: 0.7623 - val_loss: 0.8060 - val_accuracy: 0.5217\n",
            "Epoch 25/200\n",
            "3/3 [==============================] - 0s 28ms/step - loss: 0.6651 - accuracy: 0.7289 - val_loss: 0.8013 - val_accuracy: 0.5217\n",
            "Epoch 26/200\n",
            "3/3 [==============================] - 0s 24ms/step - loss: 0.6883 - accuracy: 0.6873 - val_loss: 0.7964 - val_accuracy: 0.5217\n",
            "Epoch 27/200\n",
            "3/3 [==============================] - 0s 22ms/step - loss: 0.6747 - accuracy: 0.7039 - val_loss: 0.7918 - val_accuracy: 0.5217\n",
            "Epoch 28/200\n",
            "3/3 [==============================] - 0s 23ms/step - loss: 0.6786 - accuracy: 0.6831 - val_loss: 0.7868 - val_accuracy: 0.5217\n",
            "Epoch 29/200\n",
            "3/3 [==============================] - 0s 22ms/step - loss: 0.6556 - accuracy: 0.7123 - val_loss: 0.7825 - val_accuracy: 0.5217\n",
            "Epoch 30/200\n",
            "3/3 [==============================] - 0s 22ms/step - loss: 0.6570 - accuracy: 0.6998 - val_loss: 0.7780 - val_accuracy: 0.5217\n",
            "Epoch 31/200\n",
            "3/3 [==============================] - 0s 24ms/step - loss: 0.6419 - accuracy: 0.7164 - val_loss: 0.7736 - val_accuracy: 0.5217\n",
            "Epoch 32/200\n",
            "3/3 [==============================] - 0s 24ms/step - loss: 0.6519 - accuracy: 0.6873 - val_loss: 0.7691 - val_accuracy: 0.5217\n",
            "Epoch 33/200\n",
            "3/3 [==============================] - 0s 25ms/step - loss: 0.6210 - accuracy: 0.7414 - val_loss: 0.7652 - val_accuracy: 0.5217\n",
            "Epoch 34/200\n",
            "3/3 [==============================] - 0s 21ms/step - loss: 0.6412 - accuracy: 0.6956 - val_loss: 0.7608 - val_accuracy: 0.5217\n",
            "Epoch 35/200\n",
            "3/3 [==============================] - 0s 22ms/step - loss: 0.6360 - accuracy: 0.6873 - val_loss: 0.7564 - val_accuracy: 0.5217\n",
            "Epoch 36/200\n",
            "3/3 [==============================] - 0s 21ms/step - loss: 0.6389 - accuracy: 0.6873 - val_loss: 0.7521 - val_accuracy: 0.5217\n",
            "Epoch 37/200\n",
            "3/3 [==============================] - 0s 22ms/step - loss: 0.6328 - accuracy: 0.6831 - val_loss: 0.7479 - val_accuracy: 0.5217\n",
            "Epoch 38/200\n",
            "3/3 [==============================] - 0s 23ms/step - loss: 0.6085 - accuracy: 0.7081 - val_loss: 0.7440 - val_accuracy: 0.5217\n",
            "Epoch 39/200\n",
            "3/3 [==============================] - 0s 25ms/step - loss: 0.6114 - accuracy: 0.7039 - val_loss: 0.7400 - val_accuracy: 0.5217\n",
            "Epoch 40/200\n",
            "3/3 [==============================] - 0s 27ms/step - loss: 0.6379 - accuracy: 0.6706 - val_loss: 0.7361 - val_accuracy: 0.5217\n",
            "Epoch 41/200\n",
            "3/3 [==============================] - 0s 22ms/step - loss: 0.6240 - accuracy: 0.6831 - val_loss: 0.7321 - val_accuracy: 0.5217\n",
            "Epoch 42/200\n",
            "3/3 [==============================] - 0s 25ms/step - loss: 0.6107 - accuracy: 0.6873 - val_loss: 0.7280 - val_accuracy: 0.5217\n",
            "Epoch 43/200\n",
            "3/3 [==============================] - 0s 25ms/step - loss: 0.6033 - accuracy: 0.6998 - val_loss: 0.7244 - val_accuracy: 0.5217\n",
            "Epoch 44/200\n",
            "3/3 [==============================] - 0s 27ms/step - loss: 0.5943 - accuracy: 0.7039 - val_loss: 0.7207 - val_accuracy: 0.5217\n",
            "Epoch 45/200\n",
            "3/3 [==============================] - 0s 25ms/step - loss: 0.5887 - accuracy: 0.6998 - val_loss: 0.7170 - val_accuracy: 0.5217\n",
            "Epoch 46/200\n",
            "3/3 [==============================] - 0s 25ms/step - loss: 0.5885 - accuracy: 0.7039 - val_loss: 0.7135 - val_accuracy: 0.5217\n",
            "Epoch 47/200\n",
            "3/3 [==============================] - 0s 23ms/step - loss: 0.5558 - accuracy: 0.7331 - val_loss: 0.7100 - val_accuracy: 0.5217\n",
            "Epoch 48/200\n",
            "3/3 [==============================] - 0s 22ms/step - loss: 0.5792 - accuracy: 0.6914 - val_loss: 0.7061 - val_accuracy: 0.5217\n",
            "Epoch 49/200\n",
            "3/3 [==============================] - 0s 26ms/step - loss: 0.5654 - accuracy: 0.7123 - val_loss: 0.7025 - val_accuracy: 0.5217\n",
            "Epoch 50/200\n",
            "3/3 [==============================] - 0s 25ms/step - loss: 0.5869 - accuracy: 0.6748 - val_loss: 0.6987 - val_accuracy: 0.5217\n",
            "Epoch 51/200\n",
            "3/3 [==============================] - 0s 22ms/step - loss: 0.5720 - accuracy: 0.6914 - val_loss: 0.6953 - val_accuracy: 0.5217\n",
            "Epoch 52/200\n",
            "3/3 [==============================] - 0s 25ms/step - loss: 0.5468 - accuracy: 0.7206 - val_loss: 0.6922 - val_accuracy: 0.5217\n",
            "Epoch 53/200\n",
            "3/3 [==============================] - 0s 24ms/step - loss: 0.5565 - accuracy: 0.6956 - val_loss: 0.6885 - val_accuracy: 0.5217\n",
            "Epoch 54/200\n",
            "3/3 [==============================] - 0s 28ms/step - loss: 0.5519 - accuracy: 0.6914 - val_loss: 0.6848 - val_accuracy: 0.5217\n",
            "Epoch 55/200\n",
            "3/3 [==============================] - 0s 25ms/step - loss: 0.5459 - accuracy: 0.7123 - val_loss: 0.6817 - val_accuracy: 0.5217\n",
            "Epoch 56/200\n",
            "3/3 [==============================] - 0s 23ms/step - loss: 0.5303 - accuracy: 0.7164 - val_loss: 0.6787 - val_accuracy: 0.5217\n",
            "Epoch 57/200\n",
            "3/3 [==============================] - 0s 25ms/step - loss: 0.5226 - accuracy: 0.7164 - val_loss: 0.6754 - val_accuracy: 0.5217\n",
            "Epoch 58/200\n",
            "3/3 [==============================] - 0s 22ms/step - loss: 0.5339 - accuracy: 0.7081 - val_loss: 0.6724 - val_accuracy: 0.5217\n",
            "Epoch 59/200\n",
            "3/3 [==============================] - 0s 25ms/step - loss: 0.5221 - accuracy: 0.7206 - val_loss: 0.6696 - val_accuracy: 0.5217\n",
            "Epoch 60/200\n",
            "3/3 [==============================] - 0s 22ms/step - loss: 0.5177 - accuracy: 0.7262 - val_loss: 0.6665 - val_accuracy: 0.5217\n",
            "Epoch 61/200\n",
            "3/3 [==============================] - 0s 25ms/step - loss: 0.5172 - accuracy: 0.7304 - val_loss: 0.6637 - val_accuracy: 0.5217\n",
            "Epoch 62/200\n",
            "3/3 [==============================] - 0s 28ms/step - loss: 0.5351 - accuracy: 0.6929 - val_loss: 0.6602 - val_accuracy: 0.5217\n",
            "Epoch 63/200\n",
            "3/3 [==============================] - 0s 23ms/step - loss: 0.5035 - accuracy: 0.7304 - val_loss: 0.6571 - val_accuracy: 0.5217\n",
            "Epoch 64/200\n",
            "3/3 [==============================] - 0s 21ms/step - loss: 0.5195 - accuracy: 0.7012 - val_loss: 0.6537 - val_accuracy: 0.5217\n",
            "Epoch 65/200\n",
            "3/3 [==============================] - 0s 87ms/step - loss: 0.5197 - accuracy: 0.7096 - val_loss: 0.6510 - val_accuracy: 0.5217\n",
            "Epoch 66/200\n",
            "3/3 [==============================] - 0s 20ms/step - loss: 0.4766 - accuracy: 0.7596 - val_loss: 0.6483 - val_accuracy: 0.5217\n",
            "Epoch 67/200\n",
            "3/3 [==============================] - 0s 21ms/step - loss: 0.5029 - accuracy: 0.7221 - val_loss: 0.6455 - val_accuracy: 0.5217\n",
            "Epoch 68/200\n",
            "3/3 [==============================] - 0s 23ms/step - loss: 0.4859 - accuracy: 0.7554 - val_loss: 0.6431 - val_accuracy: 0.5217\n",
            "Epoch 69/200\n",
            "3/3 [==============================] - 0s 23ms/step - loss: 0.5056 - accuracy: 0.7179 - val_loss: 0.6402 - val_accuracy: 0.5652\n",
            "Epoch 70/200\n",
            "3/3 [==============================] - 0s 22ms/step - loss: 0.4802 - accuracy: 0.7596 - val_loss: 0.6375 - val_accuracy: 0.5652\n",
            "Epoch 71/200\n",
            "3/3 [==============================] - 0s 25ms/step - loss: 0.4900 - accuracy: 0.7221 - val_loss: 0.6346 - val_accuracy: 0.5652\n",
            "Epoch 72/200\n",
            "3/3 [==============================] - 0s 23ms/step - loss: 0.4817 - accuracy: 0.7179 - val_loss: 0.6312 - val_accuracy: 0.5652\n",
            "Epoch 73/200\n",
            "3/3 [==============================] - 0s 22ms/step - loss: 0.5040 - accuracy: 0.6943 - val_loss: 0.6279 - val_accuracy: 0.6087\n",
            "Epoch 74/200\n",
            "3/3 [==============================] - 0s 25ms/step - loss: 0.4974 - accuracy: 0.7277 - val_loss: 0.6253 - val_accuracy: 0.6087\n",
            "Epoch 75/200\n",
            "3/3 [==============================] - 0s 20ms/step - loss: 0.5007 - accuracy: 0.7027 - val_loss: 0.6224 - val_accuracy: 0.6087\n",
            "Epoch 76/200\n",
            "3/3 [==============================] - 0s 20ms/step - loss: 0.4907 - accuracy: 0.7152 - val_loss: 0.6203 - val_accuracy: 0.6087\n",
            "Epoch 77/200\n",
            "3/3 [==============================] - 0s 21ms/step - loss: 0.5089 - accuracy: 0.6985 - val_loss: 0.6179 - val_accuracy: 0.6087\n",
            "Epoch 78/200\n",
            "3/3 [==============================] - 0s 21ms/step - loss: 0.4794 - accuracy: 0.7277 - val_loss: 0.6157 - val_accuracy: 0.6087\n",
            "Epoch 79/200\n",
            "3/3 [==============================] - 0s 24ms/step - loss: 0.4648 - accuracy: 0.7318 - val_loss: 0.6135 - val_accuracy: 0.6087\n",
            "Epoch 80/200\n",
            "3/3 [==============================] - 0s 19ms/step - loss: 0.4573 - accuracy: 0.7375 - val_loss: 0.6113 - val_accuracy: 0.6087\n",
            "Epoch 81/200\n",
            "3/3 [==============================] - 0s 25ms/step - loss: 0.4449 - accuracy: 0.7666 - val_loss: 0.6091 - val_accuracy: 0.6087\n",
            "Epoch 82/200\n",
            "3/3 [==============================] - 0s 24ms/step - loss: 0.4504 - accuracy: 0.7416 - val_loss: 0.6068 - val_accuracy: 0.6087\n",
            "Epoch 83/200\n",
            "3/3 [==============================] - 0s 23ms/step - loss: 0.4656 - accuracy: 0.7250 - val_loss: 0.6040 - val_accuracy: 0.6087\n",
            "Epoch 84/200\n",
            "3/3 [==============================] - 0s 23ms/step - loss: 0.4551 - accuracy: 0.7583 - val_loss: 0.6018 - val_accuracy: 0.6087\n",
            "Epoch 85/200\n",
            "3/3 [==============================] - 0s 23ms/step - loss: 0.4413 - accuracy: 0.7847 - val_loss: 0.5999 - val_accuracy: 0.6087\n",
            "Epoch 86/200\n",
            "3/3 [==============================] - 0s 20ms/step - loss: 0.4459 - accuracy: 0.7597 - val_loss: 0.5977 - val_accuracy: 0.6522\n",
            "Epoch 87/200\n",
            "3/3 [==============================] - 0s 21ms/step - loss: 0.4594 - accuracy: 0.7514 - val_loss: 0.5954 - val_accuracy: 0.6522\n",
            "Epoch 88/200\n",
            "3/3 [==============================] - 0s 21ms/step - loss: 0.4300 - accuracy: 0.7847 - val_loss: 0.5934 - val_accuracy: 0.6522\n",
            "Epoch 89/200\n",
            "3/3 [==============================] - 0s 20ms/step - loss: 0.4748 - accuracy: 0.7195 - val_loss: 0.5906 - val_accuracy: 0.6522\n",
            "Epoch 90/200\n",
            "3/3 [==============================] - 0s 20ms/step - loss: 0.4480 - accuracy: 0.7710 - val_loss: 0.5880 - val_accuracy: 0.6522\n",
            "Epoch 91/200\n",
            "3/3 [==============================] - 0s 24ms/step - loss: 0.4381 - accuracy: 0.7543 - val_loss: 0.5858 - val_accuracy: 0.6522\n",
            "Epoch 92/200\n",
            "3/3 [==============================] - 0s 23ms/step - loss: 0.4290 - accuracy: 0.7960 - val_loss: 0.5838 - val_accuracy: 0.6522\n",
            "Epoch 93/200\n",
            "3/3 [==============================] - 0s 23ms/step - loss: 0.4077 - accuracy: 0.8126 - val_loss: 0.5825 - val_accuracy: 0.6522\n",
            "Epoch 94/200\n",
            "3/3 [==============================] - 0s 23ms/step - loss: 0.4268 - accuracy: 0.7849 - val_loss: 0.5801 - val_accuracy: 0.6522\n",
            "Epoch 95/200\n",
            "3/3 [==============================] - 0s 23ms/step - loss: 0.4220 - accuracy: 0.7989 - val_loss: 0.5780 - val_accuracy: 0.6522\n",
            "Epoch 96/200\n",
            "3/3 [==============================] - 0s 23ms/step - loss: 0.4433 - accuracy: 0.8101 - val_loss: 0.5757 - val_accuracy: 0.6522\n",
            "Epoch 97/200\n",
            "3/3 [==============================] - 0s 26ms/step - loss: 0.4299 - accuracy: 0.8226 - val_loss: 0.5740 - val_accuracy: 0.6522\n",
            "Epoch 98/200\n",
            "3/3 [==============================] - 0s 24ms/step - loss: 0.4351 - accuracy: 0.8184 - val_loss: 0.5718 - val_accuracy: 0.6522\n",
            "Epoch 99/200\n",
            "3/3 [==============================] - 0s 22ms/step - loss: 0.4160 - accuracy: 0.8407 - val_loss: 0.5699 - val_accuracy: 0.6522\n",
            "Epoch 100/200\n",
            "3/3 [==============================] - 0s 25ms/step - loss: 0.4150 - accuracy: 0.8407 - val_loss: 0.5687 - val_accuracy: 0.6522\n",
            "Epoch 101/200\n",
            "3/3 [==============================] - 0s 25ms/step - loss: 0.4290 - accuracy: 0.8199 - val_loss: 0.5666 - val_accuracy: 0.6522\n",
            "Epoch 102/200\n",
            "3/3 [==============================] - 0s 25ms/step - loss: 0.4316 - accuracy: 0.8282 - val_loss: 0.5647 - val_accuracy: 0.6522\n",
            "Epoch 103/200\n",
            "3/3 [==============================] - 0s 21ms/step - loss: 0.4328 - accuracy: 0.8282 - val_loss: 0.5624 - val_accuracy: 0.6957\n",
            "Epoch 104/200\n",
            "3/3 [==============================] - 0s 21ms/step - loss: 0.4268 - accuracy: 0.8297 - val_loss: 0.5607 - val_accuracy: 0.6957\n",
            "Epoch 105/200\n",
            "3/3 [==============================] - 0s 23ms/step - loss: 0.4112 - accuracy: 0.8297 - val_loss: 0.5589 - val_accuracy: 0.6957\n",
            "Epoch 106/200\n",
            "3/3 [==============================] - 0s 22ms/step - loss: 0.4235 - accuracy: 0.8103 - val_loss: 0.5566 - val_accuracy: 0.6957\n",
            "Epoch 107/200\n",
            "3/3 [==============================] - 0s 22ms/step - loss: 0.4146 - accuracy: 0.8478 - val_loss: 0.5550 - val_accuracy: 0.6957\n",
            "Epoch 108/200\n",
            "3/3 [==============================] - 0s 23ms/step - loss: 0.4280 - accuracy: 0.8603 - val_loss: 0.5531 - val_accuracy: 0.6957\n",
            "Epoch 109/200\n",
            "3/3 [==============================] - 0s 89ms/step - loss: 0.4174 - accuracy: 0.8395 - val_loss: 0.5511 - val_accuracy: 0.6957\n",
            "Epoch 110/200\n",
            "3/3 [==============================] - 0s 21ms/step - loss: 0.3961 - accuracy: 0.8520 - val_loss: 0.5498 - val_accuracy: 0.6957\n",
            "Epoch 111/200\n",
            "3/3 [==============================] - 0s 21ms/step - loss: 0.4026 - accuracy: 0.8520 - val_loss: 0.5483 - val_accuracy: 0.6957\n",
            "Epoch 112/200\n",
            "3/3 [==============================] - 0s 22ms/step - loss: 0.4026 - accuracy: 0.8645 - val_loss: 0.5460 - val_accuracy: 0.6957\n",
            "Epoch 113/200\n",
            "3/3 [==============================] - 0s 21ms/step - loss: 0.4005 - accuracy: 0.8603 - val_loss: 0.5448 - val_accuracy: 0.6957\n",
            "Epoch 114/200\n",
            "3/3 [==============================] - 0s 24ms/step - loss: 0.3879 - accuracy: 0.8645 - val_loss: 0.5428 - val_accuracy: 0.6957\n",
            "Epoch 115/200\n",
            "3/3 [==============================] - 0s 22ms/step - loss: 0.4003 - accuracy: 0.8715 - val_loss: 0.5408 - val_accuracy: 0.6957\n",
            "Epoch 116/200\n",
            "3/3 [==============================] - 0s 27ms/step - loss: 0.4129 - accuracy: 0.8549 - val_loss: 0.5392 - val_accuracy: 0.6957\n",
            "Epoch 117/200\n",
            "3/3 [==============================] - 0s 21ms/step - loss: 0.3928 - accuracy: 0.8840 - val_loss: 0.5377 - val_accuracy: 0.6957\n",
            "Epoch 118/200\n",
            "3/3 [==============================] - 0s 22ms/step - loss: 0.3781 - accuracy: 0.8799 - val_loss: 0.5358 - val_accuracy: 0.6957\n",
            "Epoch 119/200\n",
            "3/3 [==============================] - 0s 23ms/step - loss: 0.3937 - accuracy: 0.8772 - val_loss: 0.5341 - val_accuracy: 0.6957\n",
            "Epoch 120/200\n",
            "3/3 [==============================] - 0s 25ms/step - loss: 0.3943 - accuracy: 0.8772 - val_loss: 0.5324 - val_accuracy: 0.7391\n",
            "Epoch 121/200\n",
            "3/3 [==============================] - 0s 27ms/step - loss: 0.4063 - accuracy: 0.8688 - val_loss: 0.5308 - val_accuracy: 0.7391\n",
            "Epoch 122/200\n",
            "3/3 [==============================] - 0s 24ms/step - loss: 0.3861 - accuracy: 0.8772 - val_loss: 0.5292 - val_accuracy: 0.7391\n",
            "Epoch 123/200\n",
            "3/3 [==============================] - 0s 23ms/step - loss: 0.4100 - accuracy: 0.8994 - val_loss: 0.5273 - val_accuracy: 0.7391\n",
            "Epoch 124/200\n",
            "3/3 [==============================] - 0s 22ms/step - loss: 0.3803 - accuracy: 0.8953 - val_loss: 0.5261 - val_accuracy: 0.7391\n",
            "Epoch 125/200\n",
            "3/3 [==============================] - 0s 25ms/step - loss: 0.3652 - accuracy: 0.8953 - val_loss: 0.5246 - val_accuracy: 0.7826\n",
            "Epoch 126/200\n",
            "3/3 [==============================] - 0s 25ms/step - loss: 0.4018 - accuracy: 0.8967 - val_loss: 0.5228 - val_accuracy: 0.7826\n",
            "Epoch 127/200\n",
            "3/3 [==============================] - 0s 23ms/step - loss: 0.4032 - accuracy: 0.9051 - val_loss: 0.5216 - val_accuracy: 0.7826\n",
            "Epoch 128/200\n",
            "3/3 [==============================] - 0s 22ms/step - loss: 0.3838 - accuracy: 0.9009 - val_loss: 0.5200 - val_accuracy: 0.7826\n",
            "Epoch 129/200\n",
            "3/3 [==============================] - 0s 24ms/step - loss: 0.3495 - accuracy: 0.9301 - val_loss: 0.5184 - val_accuracy: 0.7826\n",
            "Epoch 130/200\n",
            "3/3 [==============================] - 0s 25ms/step - loss: 0.3692 - accuracy: 0.9217 - val_loss: 0.5166 - val_accuracy: 0.7826\n",
            "Epoch 131/200\n",
            "3/3 [==============================] - 0s 23ms/step - loss: 0.3721 - accuracy: 0.9342 - val_loss: 0.5152 - val_accuracy: 0.7826\n",
            "Epoch 132/200\n",
            "3/3 [==============================] - 0s 30ms/step - loss: 0.3778 - accuracy: 0.9092 - val_loss: 0.5133 - val_accuracy: 0.7826\n",
            "Epoch 133/200\n",
            "3/3 [==============================] - 0s 21ms/step - loss: 0.3717 - accuracy: 0.9134 - val_loss: 0.5113 - val_accuracy: 0.7826\n",
            "Epoch 134/200\n",
            "3/3 [==============================] - 0s 22ms/step - loss: 0.3908 - accuracy: 0.9134 - val_loss: 0.5089 - val_accuracy: 0.7826\n",
            "Epoch 135/200\n",
            "3/3 [==============================] - 0s 24ms/step - loss: 0.3582 - accuracy: 0.9217 - val_loss: 0.5072 - val_accuracy: 0.7826\n",
            "Epoch 136/200\n",
            "3/3 [==============================] - 0s 32ms/step - loss: 0.3799 - accuracy: 0.9009 - val_loss: 0.5053 - val_accuracy: 0.7826\n",
            "Epoch 137/200\n",
            "3/3 [==============================] - 0s 24ms/step - loss: 0.3563 - accuracy: 0.9134 - val_loss: 0.5044 - val_accuracy: 0.7826\n",
            "Epoch 138/200\n",
            "3/3 [==============================] - 0s 25ms/step - loss: 0.3874 - accuracy: 0.8884 - val_loss: 0.5028 - val_accuracy: 0.7826\n",
            "Epoch 139/200\n",
            "3/3 [==============================] - 0s 23ms/step - loss: 0.3566 - accuracy: 0.9051 - val_loss: 0.5014 - val_accuracy: 0.7826\n",
            "Epoch 140/200\n",
            "3/3 [==============================] - 0s 23ms/step - loss: 0.3374 - accuracy: 0.9301 - val_loss: 0.5005 - val_accuracy: 0.7826\n",
            "Epoch 141/200\n",
            "3/3 [==============================] - 0s 20ms/step - loss: 0.3639 - accuracy: 0.9217 - val_loss: 0.4993 - val_accuracy: 0.7826\n",
            "Epoch 142/200\n",
            "3/3 [==============================] - 0s 24ms/step - loss: 0.3688 - accuracy: 0.8967 - val_loss: 0.4979 - val_accuracy: 0.7826\n",
            "Epoch 143/200\n",
            "3/3 [==============================] - 0s 22ms/step - loss: 0.3482 - accuracy: 0.9259 - val_loss: 0.4969 - val_accuracy: 0.7826\n",
            "Epoch 144/200\n",
            "3/3 [==============================] - 0s 23ms/step - loss: 0.3743 - accuracy: 0.9134 - val_loss: 0.4948 - val_accuracy: 0.8261\n",
            "Epoch 145/200\n",
            "3/3 [==============================] - 0s 22ms/step - loss: 0.3499 - accuracy: 0.9342 - val_loss: 0.4933 - val_accuracy: 0.8261\n",
            "Epoch 146/200\n",
            "3/3 [==============================] - 0s 23ms/step - loss: 0.3372 - accuracy: 0.9217 - val_loss: 0.4917 - val_accuracy: 0.8261\n",
            "Epoch 147/200\n",
            "3/3 [==============================] - 0s 20ms/step - loss: 0.3412 - accuracy: 0.9134 - val_loss: 0.4904 - val_accuracy: 0.8261\n",
            "Epoch 148/200\n",
            "3/3 [==============================] - 0s 23ms/step - loss: 0.3394 - accuracy: 0.9232 - val_loss: 0.4888 - val_accuracy: 0.9130\n",
            "Epoch 149/200\n",
            "3/3 [==============================] - 0s 27ms/step - loss: 0.3339 - accuracy: 0.9315 - val_loss: 0.4873 - val_accuracy: 0.9130\n",
            "Epoch 150/200\n",
            "3/3 [==============================] - 0s 26ms/step - loss: 0.3490 - accuracy: 0.9190 - val_loss: 0.4853 - val_accuracy: 0.9130\n",
            "Epoch 151/200\n",
            "3/3 [==============================] - 0s 22ms/step - loss: 0.3595 - accuracy: 0.9148 - val_loss: 0.4832 - val_accuracy: 0.9130\n",
            "Epoch 152/200\n",
            "3/3 [==============================] - 0s 21ms/step - loss: 0.3447 - accuracy: 0.9398 - val_loss: 0.4817 - val_accuracy: 0.9130\n",
            "Epoch 153/200\n",
            "3/3 [==============================] - 0s 21ms/step - loss: 0.3569 - accuracy: 0.9246 - val_loss: 0.4801 - val_accuracy: 0.9130\n",
            "Epoch 154/200\n",
            "3/3 [==============================] - 0s 28ms/step - loss: 0.3487 - accuracy: 0.9121 - val_loss: 0.4787 - val_accuracy: 0.9130\n",
            "Epoch 155/200\n",
            "3/3 [==============================] - 0s 24ms/step - loss: 0.3467 - accuracy: 0.9496 - val_loss: 0.4773 - val_accuracy: 0.9130\n",
            "Epoch 156/200\n",
            "3/3 [==============================] - 0s 22ms/step - loss: 0.3421 - accuracy: 0.9246 - val_loss: 0.4762 - val_accuracy: 0.9130\n",
            "Epoch 157/200\n",
            "3/3 [==============================] - 0s 21ms/step - loss: 0.3673 - accuracy: 0.9121 - val_loss: 0.4743 - val_accuracy: 0.9130\n",
            "Epoch 158/200\n",
            "3/3 [==============================] - 0s 21ms/step - loss: 0.3229 - accuracy: 0.9525 - val_loss: 0.4729 - val_accuracy: 0.9130\n",
            "Epoch 159/200\n",
            "3/3 [==============================] - 0s 26ms/step - loss: 0.3501 - accuracy: 0.9484 - val_loss: 0.4709 - val_accuracy: 0.9130\n",
            "Epoch 160/200\n",
            "3/3 [==============================] - 0s 21ms/step - loss: 0.3277 - accuracy: 0.9484 - val_loss: 0.4699 - val_accuracy: 0.9130\n",
            "Epoch 161/200\n",
            "3/3 [==============================] - 0s 22ms/step - loss: 0.3172 - accuracy: 0.9609 - val_loss: 0.4692 - val_accuracy: 0.9130\n",
            "Epoch 162/200\n",
            "3/3 [==============================] - 0s 22ms/step - loss: 0.3273 - accuracy: 0.9455 - val_loss: 0.4690 - val_accuracy: 0.9130\n",
            "Epoch 163/200\n",
            "3/3 [==============================] - 0s 90ms/step - loss: 0.3298 - accuracy: 0.9330 - val_loss: 0.4674 - val_accuracy: 0.9130\n",
            "Epoch 164/200\n",
            "3/3 [==============================] - 0s 22ms/step - loss: 0.3087 - accuracy: 0.9692 - val_loss: 0.4656 - val_accuracy: 0.9130\n",
            "Epoch 165/200\n",
            "3/3 [==============================] - 0s 26ms/step - loss: 0.3410 - accuracy: 0.9484 - val_loss: 0.4638 - val_accuracy: 0.9130\n",
            "Epoch 166/200\n",
            "3/3 [==============================] - 0s 27ms/step - loss: 0.3154 - accuracy: 0.9692 - val_loss: 0.4624 - val_accuracy: 0.9130\n",
            "Epoch 167/200\n",
            "3/3 [==============================] - 0s 25ms/step - loss: 0.3445 - accuracy: 0.9484 - val_loss: 0.4606 - val_accuracy: 0.9130\n",
            "Epoch 168/200\n",
            "3/3 [==============================] - 0s 22ms/step - loss: 0.3390 - accuracy: 0.9567 - val_loss: 0.4591 - val_accuracy: 0.9130\n",
            "Epoch 169/200\n",
            "3/3 [==============================] - 0s 22ms/step - loss: 0.3238 - accuracy: 0.9692 - val_loss: 0.4583 - val_accuracy: 0.9130\n",
            "Epoch 170/200\n",
            "3/3 [==============================] - 0s 26ms/step - loss: 0.3022 - accuracy: 0.9650 - val_loss: 0.4572 - val_accuracy: 0.9130\n",
            "Epoch 171/200\n",
            "3/3 [==============================] - 0s 27ms/step - loss: 0.3060 - accuracy: 0.9609 - val_loss: 0.4556 - val_accuracy: 0.9130\n",
            "Epoch 172/200\n",
            "3/3 [==============================] - 0s 23ms/step - loss: 0.3218 - accuracy: 0.9540 - val_loss: 0.4538 - val_accuracy: 0.9130\n",
            "Epoch 173/200\n",
            "3/3 [==============================] - 0s 22ms/step - loss: 0.3398 - accuracy: 0.9540 - val_loss: 0.4517 - val_accuracy: 0.9130\n",
            "Epoch 174/200\n",
            "3/3 [==============================] - 0s 22ms/step - loss: 0.3202 - accuracy: 0.9831 - val_loss: 0.4505 - val_accuracy: 0.9130\n",
            "Epoch 175/200\n",
            "3/3 [==============================] - 0s 24ms/step - loss: 0.2964 - accuracy: 0.9665 - val_loss: 0.4496 - val_accuracy: 0.9130\n",
            "Epoch 176/200\n",
            "3/3 [==============================] - 0s 23ms/step - loss: 0.3195 - accuracy: 0.9540 - val_loss: 0.4481 - val_accuracy: 0.9130\n",
            "Epoch 177/200\n",
            "3/3 [==============================] - 0s 26ms/step - loss: 0.3118 - accuracy: 0.9665 - val_loss: 0.4467 - val_accuracy: 0.9130\n",
            "Epoch 178/200\n",
            "3/3 [==============================] - 0s 25ms/step - loss: 0.3074 - accuracy: 0.9623 - val_loss: 0.4456 - val_accuracy: 0.9130\n",
            "Epoch 179/200\n",
            "3/3 [==============================] - 0s 23ms/step - loss: 0.3201 - accuracy: 0.9581 - val_loss: 0.4441 - val_accuracy: 0.9130\n",
            "Epoch 180/200\n",
            "3/3 [==============================] - 0s 24ms/step - loss: 0.3151 - accuracy: 0.9581 - val_loss: 0.4431 - val_accuracy: 0.9130\n",
            "Epoch 181/200\n",
            "3/3 [==============================] - 0s 26ms/step - loss: 0.3019 - accuracy: 0.9748 - val_loss: 0.4419 - val_accuracy: 0.9130\n",
            "Epoch 182/200\n",
            "3/3 [==============================] - 0s 24ms/step - loss: 0.3076 - accuracy: 0.9831 - val_loss: 0.4403 - val_accuracy: 0.9130\n",
            "Epoch 183/200\n",
            "3/3 [==============================] - 0s 22ms/step - loss: 0.3218 - accuracy: 0.9581 - val_loss: 0.4385 - val_accuracy: 0.9130\n",
            "Epoch 184/200\n",
            "3/3 [==============================] - 0s 22ms/step - loss: 0.3016 - accuracy: 0.9748 - val_loss: 0.4375 - val_accuracy: 0.9130\n",
            "Epoch 185/200\n",
            "3/3 [==============================] - 0s 27ms/step - loss: 0.2971 - accuracy: 0.9665 - val_loss: 0.4364 - val_accuracy: 0.9130\n",
            "Epoch 186/200\n",
            "3/3 [==============================] - 0s 24ms/step - loss: 0.3088 - accuracy: 0.9665 - val_loss: 0.4355 - val_accuracy: 0.9130\n",
            "Epoch 187/200\n",
            "3/3 [==============================] - 0s 22ms/step - loss: 0.2904 - accuracy: 0.9665 - val_loss: 0.4339 - val_accuracy: 0.9130\n",
            "Epoch 188/200\n",
            "3/3 [==============================] - 0s 25ms/step - loss: 0.3195 - accuracy: 0.9456 - val_loss: 0.4319 - val_accuracy: 0.9130\n",
            "Epoch 189/200\n",
            "3/3 [==============================] - 0s 22ms/step - loss: 0.3097 - accuracy: 0.9623 - val_loss: 0.4305 - val_accuracy: 0.9130\n",
            "Epoch 190/200\n",
            "3/3 [==============================] - 0s 26ms/step - loss: 0.3100 - accuracy: 0.9540 - val_loss: 0.4287 - val_accuracy: 0.9130\n",
            "Epoch 191/200\n",
            "3/3 [==============================] - 0s 21ms/step - loss: 0.3039 - accuracy: 0.9638 - val_loss: 0.4276 - val_accuracy: 0.9130\n",
            "Epoch 192/200\n",
            "3/3 [==============================] - 0s 22ms/step - loss: 0.3004 - accuracy: 0.9638 - val_loss: 0.4264 - val_accuracy: 0.9130\n",
            "Epoch 193/200\n",
            "3/3 [==============================] - 0s 22ms/step - loss: 0.2864 - accuracy: 0.9888 - val_loss: 0.4258 - val_accuracy: 0.9130\n",
            "Epoch 194/200\n",
            "3/3 [==============================] - 0s 21ms/step - loss: 0.3070 - accuracy: 0.9721 - val_loss: 0.4245 - val_accuracy: 0.9130\n",
            "Epoch 195/200\n",
            "3/3 [==============================] - 0s 22ms/step - loss: 0.3034 - accuracy: 0.9638 - val_loss: 0.4236 - val_accuracy: 0.9130\n",
            "Epoch 196/200\n",
            "3/3 [==============================] - 0s 21ms/step - loss: 0.2819 - accuracy: 0.9721 - val_loss: 0.4221 - val_accuracy: 0.9130\n",
            "Epoch 197/200\n",
            "3/3 [==============================] - 0s 21ms/step - loss: 0.2919 - accuracy: 0.9763 - val_loss: 0.4207 - val_accuracy: 0.9130\n",
            "Epoch 198/200\n",
            "3/3 [==============================] - 0s 26ms/step - loss: 0.2858 - accuracy: 0.9721 - val_loss: 0.4192 - val_accuracy: 0.9130\n",
            "Epoch 199/200\n",
            "3/3 [==============================] - 0s 24ms/step - loss: 0.2775 - accuracy: 0.9819 - val_loss: 0.4178 - val_accuracy: 0.9130\n",
            "Epoch 200/200\n",
            "3/3 [==============================] - 0s 24ms/step - loss: 0.2886 - accuracy: 0.9763 - val_loss: 0.4169 - val_accuracy: 0.9130\n"
          ],
          "name": "stdout"
        }
      ]
    },
    {
      "cell_type": "code",
      "metadata": {
        "colab": {
          "base_uri": "https://localhost:8080/"
        },
        "id": "8RnRmxsSLHbg",
        "outputId": "78282db6-e995-47ed-d4d5-ca902a75b5a3"
      },
      "source": [
        "acc = model.evaluate(X_test, y_test, verbose=2)\r\n",
        "print(f\"Accuracy: {acc[1]:.4f}\")"
      ],
      "execution_count": 15,
      "outputs": [
        {
          "output_type": "stream",
          "text": [
            "2/2 - 0s - loss: 0.3276 - accuracy: 0.9474\n",
            "Accuracy: 0.9474\n"
          ],
          "name": "stdout"
        }
      ]
    },
    {
      "cell_type": "code",
      "metadata": {
        "id": "r0SwDRSGLK5I"
      },
      "source": [
        ""
      ],
      "execution_count": 15,
      "outputs": []
    }
  ]
}